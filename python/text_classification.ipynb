{
  "nbformat": 4,
  "nbformat_minor": 0,
  "metadata": {
    "colab": {
      "name": "bert_test/bert_roberta.ipynb",
      "provenance": [],
      "collapsed_sections": []
    },
    "kernelspec": {
      "name": "python3",
      "display_name": "Python 3"
    },
    "accelerator": "GPU"
  },
  "cells": [
    {
      "cell_type": "code",
      "metadata": {
        "id": "oCCfUHjk7zZw",
        "colab_type": "code",
        "colab": {
          "base_uri": "https://localhost:8080/",
          "height": 136
        },
        "outputId": "d5ae9f8e-02f7-49a7-ad86-1672db369621"
      },
      "source": [
        "!(pip list | grep tqdm) || pip install tqdm\n",
        "!(pip list | grep tensorflow-hub) || pip install tensorflow-hub\n",
        "!(pip list | grep tokenizers) || pip install tokenizers"
      ],
      "execution_count": 1,
      "outputs": [
        {
          "output_type": "stream",
          "text": [
            "tqdm                     4.41.1         \n",
            "tensorflow-hub           0.8.0          \n",
            "Collecting tokenizers\n",
            "\u001b[?25l  Downloading https://files.pythonhosted.org/packages/14/e5/a26eb4716523808bb0a799fcfdceb6ebf77a18169d9591b2f46a9adb87d9/tokenizers-0.7.0-cp36-cp36m-manylinux1_x86_64.whl (3.8MB)\n",
            "\u001b[K     |████████████████████████████████| 3.8MB 7.8MB/s \n",
            "\u001b[?25hInstalling collected packages: tokenizers\n",
            "Successfully installed tokenizers-0.7.0\n"
          ],
          "name": "stdout"
        }
      ]
    },
    {
      "cell_type": "code",
      "metadata": {
        "id": "DUpmFTrX_4Vv",
        "colab_type": "code",
        "colab": {}
      },
      "source": [
        "import os\n",
        "import json\n",
        "\n",
        "os.environ['TFHUB_DOWNLOAD_PROGRESS'] = '1'\n",
        "\n",
        "from tqdm import tqdm\n",
        "import tensorflow as tf\n",
        "import tensorflow_hub as hub\n",
        "import numpy as np\n",
        "from tokenizers import BertWordPieceTokenizer"
      ],
      "execution_count": 2,
      "outputs": []
    },
    {
      "cell_type": "code",
      "metadata": {
        "id": "Z9acHDoh_zkC",
        "colab_type": "code",
        "colab": {
          "base_uri": "https://localhost:8080/",
          "height": 170
        },
        "outputId": "25d61528-0662-4aa6-d595-d7067cbb050f"
      },
      "source": [
        "!curl --output train.json https://code.aliyun.com/qhduan/dataset/raw/88b3182c9f9d6185935d4484dfefefc23f50eaa7/LCQMC/train.json\n",
        "!curl --output dev.json https://code.aliyun.com/qhduan/dataset/raw/88b3182c9f9d6185935d4484dfefefc23f50eaa7/LCQMC/dev.json\n",
        "!curl --output vocab.txt https://code.aliyun.com/qhduan/zh-bert/raw/0fb1d96ec2133fe25e66bee12fe387cbe1e52938/vocab.txt"
      ],
      "execution_count": 4,
      "outputs": [
        {
          "output_type": "stream",
          "text": [
            "  % Total    % Received % Xferd  Average Speed   Time    Time     Time  Current\n",
            "                                 Dload  Upload   Total   Spent    Left  Speed\n",
            "100 25.9M    0 25.9M    0     0  3014k      0 --:--:--  0:00:08 --:--:-- 6751k\n",
            "  % Total    % Received % Xferd  Average Speed   Time    Time     Time  Current\n",
            "                                 Dload  Upload   Total   Spent    Left  Speed\n",
            "100 1060k    0 1060k    0     0   328k      0 --:--:--  0:00:03 --:--:--  328k\n",
            "  % Total    % Received % Xferd  Average Speed   Time    Time     Time  Current\n",
            "                                 Dload  Upload   Total   Spent    Left  Speed\n",
            "100  106k    0  106k    0     0  49297      0 --:--:--  0:00:02 --:--:-- 49297\n"
          ],
          "name": "stdout"
        }
      ]
    },
    {
      "cell_type": "code",
      "metadata": {
        "id": "xRtYEkBz_zm6",
        "colab_type": "code",
        "colab": {}
      },
      "source": [
        "train = [json.loads(x) for x in open('train.json')]\n",
        "dev = [json.loads(x) for x in open('dev.json')]"
      ],
      "execution_count": 5,
      "outputs": []
    },
    {
      "cell_type": "code",
      "metadata": {
        "id": "Jf35T_SrWTnh",
        "colab_type": "code",
        "colab": {
          "base_uri": "https://localhost:8080/",
          "height": 34
        },
        "outputId": "adeb04a7-5c27-4ad2-f8b7-eac4365f20af"
      },
      "source": [
        "print(train[0], dev[0])"
      ],
      "execution_count": 6,
      "outputs": [
        {
          "output_type": "stream",
          "text": [
            "{'sentence1': '喜欢打篮球的男生喜欢什么样的女生', 'sentence2': '爱打篮球的男生喜欢什么样的女生', 'label': '1'} {'sentence1': '开初婚未育证明怎么弄？', 'sentence2': '初婚未育情况证明怎么开？', 'label': '1'}\n"
          ],
          "name": "stdout"
        }
      ]
    },
    {
      "cell_type": "code",
      "metadata": {
        "id": "YPlKVPRcWUWh",
        "colab_type": "code",
        "colab": {}
      },
      "source": [
        "tokenizer = BertWordPieceTokenizer(\"vocab.txt\")"
      ],
      "execution_count": 7,
      "outputs": []
    },
    {
      "cell_type": "code",
      "metadata": {
        "id": "dfw653FPh_f-",
        "colab_type": "code",
        "colab": {}
      },
      "source": [
        "def compose_data(data, batch_size=32):\n",
        "    X = [\n",
        "        tokenizer.encode(x.get('sentence1'), x.get('sentence2')).tokens\n",
        "        for x in tqdm(data)\n",
        "    ]\n",
        "    Y = [int(x.get('label')) for x in data]\n",
        "    X = tf.ragged.constant(X, tf.string)\n",
        "    Y = tf.constant(Y, tf.int32)\n",
        "\n",
        "    @tf.autograph.experimental.do_not_convert\n",
        "    def _to_tensor(x, y):\n",
        "        return x.to_tensor(), y\n",
        "\n",
        "    return tf.data.Dataset.zip((\n",
        "        tf.data.Dataset.from_tensor_slices(X),\n",
        "        tf.data.Dataset.from_tensor_slices(Y)\n",
        "    )).batch(batch_size).map(_to_tensor)"
      ],
      "execution_count": 12,
      "outputs": []
    },
    {
      "cell_type": "code",
      "metadata": {
        "id": "rYBHZrUAiUV4",
        "colab_type": "code",
        "colab": {
          "base_uri": "https://localhost:8080/",
          "height": 1000
        },
        "outputId": "44df5c96-e7ba-4027-949c-28305ca32213"
      },
      "source": [
        "data_train = compose_data(train)\n",
        "data_dev = compose_data(dev)"
      ],
      "execution_count": 13,
      "outputs": [
        {
          "output_type": "stream",
          "text": [
            "\n",
            "  0%|          | 0/238766 [00:00<?, ?it/s]\u001b[A\n",
            "  1%|          | 2363/238766 [00:00<00:10, 23627.04it/s]\u001b[A\n",
            "  2%|▏         | 4835/238766 [00:00<00:09, 23942.91it/s]\u001b[A\n",
            "  3%|▎         | 7147/238766 [00:00<00:09, 23688.88it/s]\u001b[A\n",
            "  4%|▍         | 9611/238766 [00:00<00:09, 23966.00it/s]\u001b[A\n",
            "  5%|▌         | 12000/238766 [00:00<00:09, 23942.08it/s]\u001b[A\n",
            "  6%|▌         | 14513/238766 [00:00<00:09, 24283.38it/s]\u001b[A\n",
            "  7%|▋         | 16963/238766 [00:00<00:09, 24345.93it/s]\u001b[A\n",
            "  8%|▊         | 19205/238766 [00:00<00:09, 22937.83it/s]\u001b[A\n",
            "  9%|▉         | 21644/238766 [00:00<00:09, 23354.03it/s]\u001b[A\n",
            " 10%|█         | 24151/238766 [00:01<00:09, 23841.58it/s]\u001b[A\n",
            " 11%|█         | 26668/238766 [00:01<00:08, 24224.19it/s]\u001b[A\n",
            " 12%|█▏        | 29054/238766 [00:01<00:08, 24086.74it/s]\u001b[A\n",
            " 13%|█▎        | 31438/238766 [00:01<00:08, 23788.81it/s]\u001b[A\n",
            " 14%|█▍        | 33805/238766 [00:01<00:08, 23750.31it/s]\u001b[A\n",
            " 15%|█▌        | 36169/238766 [00:01<00:08, 23611.69it/s]\u001b[A\n",
            " 16%|█▌        | 38669/238766 [00:01<00:08, 24010.57it/s]\u001b[A\n",
            " 17%|█▋        | 41199/238766 [00:01<00:08, 24381.81it/s]\u001b[A\n",
            " 18%|█▊        | 43642/238766 [00:01<00:07, 24396.03it/s]\u001b[A\n",
            " 19%|█▉        | 46081/238766 [00:01<00:07, 24337.31it/s]\u001b[A\n",
            " 20%|██        | 48557/238766 [00:02<00:07, 24461.43it/s]\u001b[A\n",
            " 21%|██▏       | 51084/238766 [00:02<00:07, 24696.60it/s]\u001b[A\n",
            " 22%|██▏       | 53554/238766 [00:02<00:07, 24335.67it/s]\u001b[A\n",
            " 23%|██▎       | 55989/238766 [00:02<00:07, 23277.10it/s]\u001b[A\n",
            " 24%|██▍       | 58328/238766 [00:02<00:07, 22866.33it/s]\u001b[A\n",
            " 25%|██▌       | 60694/238766 [00:02<00:07, 23096.66it/s]\u001b[A\n",
            " 26%|██▋       | 63011/238766 [00:02<00:07, 23069.02it/s]\u001b[A\n",
            " 27%|██▋       | 65395/238766 [00:02<00:07, 23293.16it/s]\u001b[A\n",
            " 28%|██▊       | 67729/238766 [00:02<00:07, 23273.35it/s]\u001b[A\n",
            " 29%|██▉       | 70060/238766 [00:02<00:07, 23079.03it/s]\u001b[A\n",
            " 30%|███       | 72542/238766 [00:03<00:07, 23573.29it/s]\u001b[A\n",
            " 31%|███▏      | 74942/238766 [00:03<00:06, 23699.49it/s]\u001b[A\n",
            " 32%|███▏      | 77316/238766 [00:03<00:06, 23582.77it/s]\u001b[A\n",
            " 33%|███▎      | 79677/238766 [00:03<00:06, 23008.44it/s]\u001b[A\n",
            " 34%|███▍      | 82056/238766 [00:03<00:06, 23216.43it/s]\u001b[A\n",
            " 35%|███▌      | 84485/238766 [00:03<00:06, 23527.86it/s]\u001b[A\n",
            " 36%|███▋      | 86842/238766 [00:03<00:06, 22320.95it/s]\u001b[A\n",
            " 37%|███▋      | 89090/238766 [00:03<00:09, 15334.43it/s]\u001b[A\n",
            " 38%|███▊      | 91548/238766 [00:04<00:08, 17284.78it/s]\u001b[A\n",
            " 39%|███▉      | 93968/238766 [00:04<00:07, 18904.97it/s]\u001b[A\n",
            " 40%|████      | 96257/238766 [00:04<00:07, 19945.73it/s]\u001b[A\n",
            " 41%|████      | 98451/238766 [00:04<00:06, 20503.72it/s]\u001b[A\n",
            " 42%|████▏     | 100712/238766 [00:04<00:06, 21092.23it/s]\u001b[A\n",
            " 43%|████▎     | 103047/238766 [00:04<00:06, 21722.31it/s]\u001b[A\n",
            " 44%|████▍     | 105351/238766 [00:04<00:06, 22097.17it/s]\u001b[A\n",
            " 45%|████▌     | 107801/238766 [00:04<00:05, 22766.60it/s]\u001b[A\n",
            " 46%|████▌     | 110186/238766 [00:04<00:05, 23080.88it/s]\u001b[A\n",
            " 47%|████▋     | 112526/238766 [00:04<00:05, 22526.83it/s]\u001b[A\n",
            " 48%|████▊     | 114909/238766 [00:05<00:05, 22900.37it/s]\u001b[A\n",
            " 49%|████▉     | 117250/238766 [00:05<00:05, 23049.18it/s]\u001b[A\n",
            " 50%|█████     | 119569/238766 [00:05<00:05, 22985.78it/s]\u001b[A\n",
            " 51%|█████     | 121878/238766 [00:05<00:05, 22309.34it/s]\u001b[A\n",
            " 52%|█████▏    | 124125/238766 [00:05<00:05, 22356.76it/s]\u001b[A\n",
            " 53%|█████▎    | 126535/238766 [00:05<00:04, 22850.87it/s]\u001b[A\n",
            " 54%|█████▍    | 128886/238766 [00:05<00:04, 22976.31it/s]\u001b[A\n",
            " 55%|█████▌    | 131325/238766 [00:05<00:04, 23381.84it/s]\u001b[A\n",
            " 56%|█████▌    | 133742/238766 [00:05<00:04, 23611.03it/s]\u001b[A\n",
            " 57%|█████▋    | 136108/238766 [00:05<00:04, 23426.07it/s]\u001b[A\n",
            " 58%|█████▊    | 138455/238766 [00:06<00:04, 23126.60it/s]\u001b[A\n",
            " 59%|█████▉    | 140893/238766 [00:06<00:04, 23488.33it/s]\u001b[A\n",
            " 60%|██████    | 143271/238766 [00:06<00:04, 23573.96it/s]\u001b[A\n",
            " 61%|██████    | 145632/238766 [00:06<00:04, 23233.17it/s]\u001b[A\n",
            " 62%|██████▏   | 147959/238766 [00:06<00:03, 23033.71it/s]\u001b[A\n",
            " 63%|██████▎   | 150388/238766 [00:06<00:03, 23394.12it/s]\u001b[A\n",
            " 64%|██████▍   | 152813/238766 [00:06<00:03, 23644.31it/s]\u001b[A\n",
            " 65%|██████▍   | 155181/238766 [00:06<00:03, 23492.07it/s]\u001b[A\n",
            " 66%|██████▌   | 157599/238766 [00:06<00:03, 23691.87it/s]\u001b[A\n",
            " 67%|██████▋   | 159971/238766 [00:06<00:03, 23558.38it/s]\u001b[A\n",
            " 68%|██████▊   | 162371/238766 [00:07<00:03, 23688.59it/s]\u001b[A\n",
            " 69%|██████▉   | 164742/238766 [00:07<00:03, 23422.68it/s]\u001b[A\n",
            " 70%|██████▉   | 167136/238766 [00:07<00:03, 23574.39it/s]\u001b[A\n",
            " 71%|███████   | 169495/238766 [00:07<00:02, 23235.33it/s]\u001b[A\n",
            " 72%|███████▏  | 171821/238766 [00:07<00:02, 22776.87it/s]\u001b[A\n",
            " 73%|███████▎  | 174304/238766 [00:07<00:02, 23353.81it/s]\u001b[A\n",
            " 74%|███████▍  | 176752/238766 [00:07<00:02, 23678.38it/s]\u001b[A\n",
            " 75%|███████▌  | 179209/238766 [00:07<00:02, 23938.05it/s]\u001b[A\n",
            " 76%|███████▌  | 181608/238766 [00:08<00:03, 14812.29it/s]\u001b[A\n",
            " 77%|███████▋  | 184093/238766 [00:08<00:03, 16854.23it/s]\u001b[A\n",
            " 78%|███████▊  | 186461/238766 [00:08<00:02, 18448.80it/s]\u001b[A\n",
            " 79%|███████▉  | 188631/238766 [00:08<00:02, 19207.19it/s]\u001b[A\n",
            " 80%|████████  | 191111/238766 [00:08<00:02, 20600.22it/s]\u001b[A\n",
            " 81%|████████  | 193619/238766 [00:08<00:02, 21764.15it/s]\u001b[A\n",
            " 82%|████████▏ | 196137/238766 [00:08<00:01, 22685.88it/s]\u001b[A\n",
            " 83%|████████▎ | 198532/238766 [00:08<00:01, 23049.42it/s]\u001b[A\n",
            " 84%|████████▍ | 201035/238766 [00:08<00:01, 23609.64it/s]\u001b[A\n",
            " 85%|████████▌ | 203458/238766 [00:09<00:01, 23114.07it/s]\u001b[A\n",
            " 86%|████████▌ | 205832/238766 [00:09<00:01, 23296.08it/s]\u001b[A\n",
            " 87%|████████▋ | 208194/238766 [00:09<00:01, 23271.46it/s]\u001b[A\n",
            " 88%|████████▊ | 210608/238766 [00:09<00:01, 23524.51it/s]\u001b[A\n",
            " 89%|████████▉ | 212977/238766 [00:09<00:01, 23080.03it/s]\u001b[A\n",
            " 90%|█████████ | 215299/238766 [00:09<00:01, 22991.41it/s]\u001b[A\n",
            " 91%|█████████ | 217677/238766 [00:09<00:00, 23221.03it/s]\u001b[A\n",
            " 92%|█████████▏| 220148/238766 [00:09<00:00, 23648.01it/s]\u001b[A\n",
            " 93%|█████████▎| 222520/238766 [00:09<00:00, 23285.45it/s]\u001b[A\n",
            " 94%|█████████▍| 224979/238766 [00:09<00:00, 23659.63it/s]\u001b[A\n",
            " 95%|█████████▌| 227351/238766 [00:10<00:00, 23436.65it/s]\u001b[A\n",
            " 96%|█████████▌| 229713/238766 [00:10<00:00, 23489.73it/s]\u001b[A\n",
            " 97%|█████████▋| 232066/238766 [00:10<00:00, 23236.42it/s]\u001b[A\n",
            " 98%|█████████▊| 234445/238766 [00:10<00:00, 23393.72it/s]\u001b[A\n",
            "100%|██████████| 238766/238766 [00:10<00:00, 22683.67it/s]\n",
            "\n",
            "  0%|          | 0/8802 [00:00<?, ?it/s]\u001b[A\n",
            " 24%|██▎       | 2078/8802 [00:00<00:00, 20777.10it/s]\u001b[A\n",
            " 50%|█████     | 4411/8802 [00:00<00:00, 21481.79it/s]\u001b[A\n",
            "100%|██████████| 8802/8802 [00:00<00:00, 22260.53it/s]\n"
          ],
          "name": "stderr"
        }
      ]
    },
    {
      "cell_type": "code",
      "metadata": {
        "id": "0Zjp91d8jDaU",
        "colab_type": "code",
        "colab": {
          "base_uri": "https://localhost:8080/",
          "height": 34
        },
        "outputId": "93cd9d8a-be70-44b1-a7a7-6931dd34f827"
      },
      "source": [
        "for x, y in data_train.take(1):\n",
        "  print(x.shape, y.shape)"
      ],
      "execution_count": 14,
      "outputs": [
        {
          "output_type": "stream",
          "text": [
            "(32, 52) (32,)\n"
          ],
          "name": "stdout"
        }
      ]
    },
    {
      "cell_type": "code",
      "metadata": {
        "id": "ryNNtQkBlHUa",
        "colab_type": "code",
        "colab": {
          "base_uri": "https://localhost:8080/",
          "height": 51
        },
        "outputId": "971e6b7c-a612-4aea-e95b-a4316c1e9009"
      },
      "source": [
        "bert = hub.KerasLayer(\n",
        "    'https://code.aliyun.com/qhduan/zh-roberta-wwm/raw/2c0d7fd709e4719a9ab2ca297f51b24e20586dbe/zh-roberta-wwm-L12.tar.gz',\n",
        "    output_key='sequence_output',\n",
        "    trainable=False)"
      ],
      "execution_count": 15,
      "outputs": [
        {
          "output_type": "stream",
          "text": [
            "Downloaded https://code.aliyun.com/qhduan/zh-roberta-wwm/raw/2c0d7fd709e4719a9ab2ca297f51b24e20586dbe/zh-roberta-wwm-L12.tar.gz, Total size: 413.52MB\n",
            "\n"
          ],
          "name": "stdout"
        }
      ]
    },
    {
      "cell_type": "code",
      "metadata": {
        "id": "dFBNcOdLlKGn",
        "colab_type": "code",
        "colab": {}
      },
      "source": [
        "pred_y = bert(x)"
      ],
      "execution_count": 16,
      "outputs": []
    },
    {
      "cell_type": "code",
      "metadata": {
        "id": "tfjZYnI5lPls",
        "colab_type": "code",
        "colab": {
          "base_uri": "https://localhost:8080/",
          "height": 34
        },
        "outputId": "2a0c8993-4dab-4ad8-d871-5bff3f4821f9"
      },
      "source": [
        "print(pred_y.shape)"
      ],
      "execution_count": 17,
      "outputs": [
        {
          "output_type": "stream",
          "text": [
            "(32, 52, 768)\n"
          ],
          "name": "stdout"
        }
      ]
    },
    {
      "cell_type": "code",
      "metadata": {
        "id": "oe_XMJlE7_ih",
        "colab_type": "code",
        "colab": {}
      },
      "source": [
        "# 用tf.keras.Sequential的话，可能导致模型无法load\n",
        "inputs = tf.keras.layers.Input(shape=(None,), dtype=tf.string)\n",
        "m = inputs\n",
        "m = bert(m)\n",
        "m = tf.keras.layers.Masking()(m)\n",
        "m = tf.keras.layers.Bidirectional(tf.keras.layers.LSTM(128))(m)\n",
        "m = tf.keras.layers.Dense(2, activation='softmax')(m)\n",
        "model = tf.keras.Model(inputs=inputs, outputs=m)"
      ],
      "execution_count": 18,
      "outputs": []
    },
    {
      "cell_type": "code",
      "metadata": {
        "id": "YLlNEBAg8FOu",
        "colab_type": "code",
        "colab": {}
      },
      "source": [
        "model.compile(\n",
        "    loss=tf.keras.losses.SparseCategoricalCrossentropy(),\n",
        "    optimizer=tf.keras.optimizers.Adam(1e-3),\n",
        "    metrics=['acc']\n",
        ")"
      ],
      "execution_count": 19,
      "outputs": []
    },
    {
      "cell_type": "code",
      "metadata": {
        "id": "Ko8N21n_8JkI",
        "colab_type": "code",
        "colab": {
          "base_uri": "https://localhost:8080/",
          "height": 561
        },
        "outputId": "9192125a-a287-440a-ba3f-bf79816b8184"
      },
      "source": [
        "model.predict(x)"
      ],
      "execution_count": 20,
      "outputs": [
        {
          "output_type": "execute_result",
          "data": {
            "text/plain": [
              "array([[0.43755826, 0.5624417 ],\n",
              "       [0.53252894, 0.4674711 ],\n",
              "       [0.30023438, 0.6997656 ],\n",
              "       [0.49681795, 0.5031821 ],\n",
              "       [0.41369775, 0.5863023 ],\n",
              "       [0.34808278, 0.6519173 ],\n",
              "       [0.5030593 , 0.4969407 ],\n",
              "       [0.5713579 , 0.4286421 ],\n",
              "       [0.4890933 , 0.5109067 ],\n",
              "       [0.4462429 , 0.5537571 ],\n",
              "       [0.53797925, 0.46202073],\n",
              "       [0.4028684 , 0.5971316 ],\n",
              "       [0.4488191 , 0.5511809 ],\n",
              "       [0.46879438, 0.53120565],\n",
              "       [0.4438246 , 0.5561754 ],\n",
              "       [0.47067833, 0.5293217 ],\n",
              "       [0.40767556, 0.59232444],\n",
              "       [0.4190747 , 0.5809253 ],\n",
              "       [0.5082262 , 0.49177375],\n",
              "       [0.4330195 , 0.5669805 ],\n",
              "       [0.5793167 , 0.42068332],\n",
              "       [0.34212926, 0.65787077],\n",
              "       [0.31667903, 0.68332094],\n",
              "       [0.49078268, 0.5092173 ],\n",
              "       [0.42947218, 0.57052785],\n",
              "       [0.45564246, 0.54435754],\n",
              "       [0.53219545, 0.46780455],\n",
              "       [0.5295534 , 0.47044662],\n",
              "       [0.5102111 , 0.48978895],\n",
              "       [0.44329828, 0.5567017 ],\n",
              "       [0.44667116, 0.5533288 ],\n",
              "       [0.503894  , 0.496106  ]], dtype=float32)"
            ]
          },
          "metadata": {
            "tags": []
          },
          "execution_count": 20
        }
      ]
    },
    {
      "cell_type": "code",
      "metadata": {
        "id": "vBVaFady8LIm",
        "colab_type": "code",
        "colab": {
          "base_uri": "https://localhost:8080/",
          "height": 323
        },
        "outputId": "5fd478c9-68d3-419a-ad85-3ad986a09cfb"
      },
      "source": [
        "model.summary()"
      ],
      "execution_count": 21,
      "outputs": [
        {
          "output_type": "stream",
          "text": [
            "Model: \"model\"\n",
            "_________________________________________________________________\n",
            "Layer (type)                 Output Shape              Param #   \n",
            "=================================================================\n",
            "input_1 (InputLayer)         [(None, None)]            0         \n",
            "_________________________________________________________________\n",
            "keras_layer (KerasLayer)     (None, None, 768)         102880904 \n",
            "_________________________________________________________________\n",
            "masking (Masking)            (None, None, 768)         0         \n",
            "_________________________________________________________________\n",
            "bidirectional (Bidirectional (None, 256)               918528    \n",
            "_________________________________________________________________\n",
            "dense (Dense)                (None, 2)                 514       \n",
            "=================================================================\n",
            "Total params: 103,799,946\n",
            "Trainable params: 919,042\n",
            "Non-trainable params: 102,880,904\n",
            "_________________________________________________________________\n"
          ],
          "name": "stdout"
        }
      ]
    },
    {
      "cell_type": "code",
      "metadata": {
        "id": "Fjsd4cCK8MHT",
        "colab_type": "code",
        "colab": {
          "base_uri": "https://localhost:8080/",
          "height": 105
        },
        "outputId": "55d39773-6988-4d25-e332-371036301023"
      },
      "source": [
        "model.fit(data_train, epochs=1, validation_data=data_dev)"
      ],
      "execution_count": 22,
      "outputs": [
        {
          "output_type": "stream",
          "text": [
            "/usr/local/lib/python3.6/dist-packages/tensorflow/python/framework/indexed_slices.py:434: UserWarning: Converting sparse IndexedSlices to a dense Tensor of unknown shape. This may consume a large amount of memory.\n",
            "  \"Converting sparse IndexedSlices to a dense Tensor of unknown shape. \"\n"
          ],
          "name": "stderr"
        },
        {
          "output_type": "stream",
          "text": [
            "7462/7462 [==============================] - 740s 99ms/step - loss: 0.2657 - acc: 0.8876 - val_loss: 0.3993 - val_acc: 0.8154\n"
          ],
          "name": "stdout"
        },
        {
          "output_type": "execute_result",
          "data": {
            "text/plain": [
              "<tensorflow.python.keras.callbacks.History at 0x7fe8cbb06eb8>"
            ]
          },
          "metadata": {
            "tags": []
          },
          "execution_count": 22
        }
      ]
    },
    {
      "cell_type": "code",
      "metadata": {
        "id": "Bv32o-Z38O7x",
        "colab_type": "code",
        "colab": {
          "base_uri": "https://localhost:8080/",
          "height": 51
        },
        "outputId": "380ed499-99df-436b-ef9d-99805754906a"
      },
      "source": [
        "model.evaluate(data_dev)"
      ],
      "execution_count": 23,
      "outputs": [
        {
          "output_type": "stream",
          "text": [
            "276/276 [==============================] - 22s 81ms/step - loss: 0.3993 - acc: 0.8154\n"
          ],
          "name": "stdout"
        },
        {
          "output_type": "execute_result",
          "data": {
            "text/plain": [
              "[0.3993489146232605, 0.8153828382492065]"
            ]
          },
          "metadata": {
            "tags": []
          },
          "execution_count": 23
        }
      ]
    },
    {
      "cell_type": "code",
      "metadata": {
        "id": "aZoTsOL2K4zC",
        "colab_type": "code",
        "colab": {
          "base_uri": "https://localhost:8080/",
          "height": 173
        },
        "outputId": "2d1afb75-d105-4593-abab-ff2c01645bb1"
      },
      "source": [
        "model.save('./test_model')"
      ],
      "execution_count": 24,
      "outputs": [
        {
          "output_type": "stream",
          "text": [
            "WARNING:tensorflow:From /usr/local/lib/python3.6/dist-packages/tensorflow/python/ops/resource_variable_ops.py:1817: calling BaseResourceVariable.__init__ (from tensorflow.python.ops.resource_variable_ops) with constraint is deprecated and will be removed in a future version.\n",
            "Instructions for updating:\n",
            "If using Keras pass *_constraint arguments to layers.\n"
          ],
          "name": "stdout"
        },
        {
          "output_type": "stream",
          "text": [
            "WARNING:tensorflow:From /usr/local/lib/python3.6/dist-packages/tensorflow/python/ops/resource_variable_ops.py:1817: calling BaseResourceVariable.__init__ (from tensorflow.python.ops.resource_variable_ops) with constraint is deprecated and will be removed in a future version.\n",
            "Instructions for updating:\n",
            "If using Keras pass *_constraint arguments to layers.\n"
          ],
          "name": "stderr"
        },
        {
          "output_type": "stream",
          "text": [
            "INFO:tensorflow:Assets written to: ./test_model/assets\n"
          ],
          "name": "stdout"
        },
        {
          "output_type": "stream",
          "text": [
            "INFO:tensorflow:Assets written to: ./test_model/assets\n"
          ],
          "name": "stderr"
        }
      ]
    },
    {
      "cell_type": "code",
      "metadata": {
        "id": "BuKh9kbaQWA-",
        "colab_type": "code",
        "colab": {
          "base_uri": "https://localhost:8080/",
          "height": 34
        },
        "outputId": "61449fdf-7093-42b7-fa96-46113bbd12f7"
      },
      "source": [
        "tf.keras.models.load_model('./test_model')"
      ],
      "execution_count": 25,
      "outputs": [
        {
          "output_type": "execute_result",
          "data": {
            "text/plain": [
              "<tensorflow.python.keras.engine.training.Model at 0x7fe8d93b7a20>"
            ]
          },
          "metadata": {
            "tags": []
          },
          "execution_count": 25
        }
      ]
    },
    {
      "cell_type": "code",
      "metadata": {
        "id": "Gid7F3NWtMQv",
        "colab_type": "code",
        "colab": {}
      },
      "source": [
        ""
      ],
      "execution_count": 25,
      "outputs": []
    }
  ]
}