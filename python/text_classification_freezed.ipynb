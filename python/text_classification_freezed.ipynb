{
  "nbformat": 4,
  "nbformat_minor": 0,
  "metadata": {
    "colab": {
      "name": "bert_test/bert_roberta_direct.ipynb",
      "provenance": [],
      "collapsed_sections": []
    },
    "kernelspec": {
      "name": "python3",
      "display_name": "Python 3"
    },
    "accelerator": "GPU"
  },
  "cells": [
    {
      "cell_type": "code",
      "metadata": {
        "id": "oCCfUHjk7zZw",
        "colab_type": "code",
        "colab": {
          "base_uri": "https://localhost:8080/",
          "height": 68
        },
        "outputId": "63797bc2-debc-470d-9516-6cd72c4fdaf4"
      },
      "source": [
        "!(pip list | grep tqdm) || pip install tqdm\n",
        "!(pip list | grep tensorflow-hub) || pip install tensorflow-hub\n",
        "!(pip list | grep tokenizers) || pip install tokenizers"
      ],
      "execution_count": 1,
      "outputs": [
        {
          "output_type": "stream",
          "text": [
            "tqdm                     4.41.1         \n",
            "tensorflow-hub           0.8.0          \n",
            "tokenizers               0.7.0          \n"
          ],
          "name": "stdout"
        }
      ]
    },
    {
      "cell_type": "code",
      "metadata": {
        "id": "DUpmFTrX_4Vv",
        "colab_type": "code",
        "colab": {}
      },
      "source": [
        "import os\n",
        "import json\n",
        "\n",
        "os.environ['TFHUB_DOWNLOAD_PROGRESS'] = '1'\n",
        "\n",
        "from tqdm import tqdm\n",
        "import tensorflow as tf\n",
        "import tensorflow_hub as hub\n",
        "import numpy as np\n",
        "from tokenizers import BertWordPieceTokenizer"
      ],
      "execution_count": 2,
      "outputs": []
    },
    {
      "cell_type": "code",
      "metadata": {
        "id": "Z9acHDoh_zkC",
        "colab_type": "code",
        "colab": {
          "base_uri": "https://localhost:8080/",
          "height": 170
        },
        "outputId": "09d9f46e-7ba1-4a77-e182-b901263b3964"
      },
      "source": [
        "!curl --output train.json https://code.aliyun.com/qhduan/dataset/raw/88b3182c9f9d6185935d4484dfefefc23f50eaa7/LCQMC/train.json\n",
        "!curl --output dev.json https://code.aliyun.com/qhduan/dataset/raw/88b3182c9f9d6185935d4484dfefefc23f50eaa7/LCQMC/dev.json\n",
        "!curl --output vocab.txt https://code.aliyun.com/qhduan/zh-bert/raw/0fb1d96ec2133fe25e66bee12fe387cbe1e52938/vocab.txt"
      ],
      "execution_count": 3,
      "outputs": [
        {
          "output_type": "stream",
          "text": [
            "  % Total    % Received % Xferd  Average Speed   Time    Time     Time  Current\n",
            "                                 Dload  Upload   Total   Spent    Left  Speed\n",
            "100 25.9M    0 25.9M    0     0  4113k      0 --:--:--  0:00:06 --:--:-- 6947k\n",
            "  % Total    % Received % Xferd  Average Speed   Time    Time     Time  Current\n",
            "                                 Dload  Upload   Total   Spent    Left  Speed\n",
            "100 1060k    0 1060k    0     0   422k      0 --:--:--  0:00:02 --:--:--  422k\n",
            "  % Total    % Received % Xferd  Average Speed   Time    Time     Time  Current\n",
            "                                 Dload  Upload   Total   Spent    Left  Speed\n",
            "100  106k    0  106k    0     0  62630      0 --:--:--  0:00:01 --:--:-- 62630\n"
          ],
          "name": "stdout"
        }
      ]
    },
    {
      "cell_type": "code",
      "metadata": {
        "id": "xRtYEkBz_zm6",
        "colab_type": "code",
        "colab": {}
      },
      "source": [
        "train = [json.loads(x) for x in open('train.json')]\n",
        "dev = [json.loads(x) for x in open('dev.json')]"
      ],
      "execution_count": 4,
      "outputs": []
    },
    {
      "cell_type": "code",
      "metadata": {
        "id": "Jf35T_SrWTnh",
        "colab_type": "code",
        "colab": {
          "base_uri": "https://localhost:8080/",
          "height": 34
        },
        "outputId": "1cddff6b-bd01-4332-98fa-b6b30fef56f6"
      },
      "source": [
        "print(train[0], dev[0])"
      ],
      "execution_count": 5,
      "outputs": [
        {
          "output_type": "stream",
          "text": [
            "{'sentence1': '喜欢打篮球的男生喜欢什么样的女生', 'sentence2': '爱打篮球的男生喜欢什么样的女生', 'label': '1'} {'sentence1': '开初婚未育证明怎么弄？', 'sentence2': '初婚未育情况证明怎么开？', 'label': '1'}\n"
          ],
          "name": "stdout"
        }
      ]
    },
    {
      "cell_type": "code",
      "metadata": {
        "id": "YPlKVPRcWUWh",
        "colab_type": "code",
        "colab": {}
      },
      "source": [
        "tokenizer = BertWordPieceTokenizer(\"vocab.txt\")"
      ],
      "execution_count": 6,
      "outputs": []
    },
    {
      "cell_type": "code",
      "metadata": {
        "id": "dfw653FPh_f-",
        "colab_type": "code",
        "colab": {}
      },
      "source": [
        "def compose_data(data, batch_size=32):\n",
        "    X = [\n",
        "        tokenizer.encode(x.get('sentence1'), x.get('sentence2')).tokens\n",
        "        for x in tqdm(data)\n",
        "    ]\n",
        "    Y = [int(x.get('label')) for x in data]\n",
        "    X = tf.ragged.constant(X, tf.string)\n",
        "    Y = tf.constant(Y, tf.int32)\n",
        "\n",
        "    @tf.autograph.experimental.do_not_convert\n",
        "    def _to_tensor(x, y):\n",
        "        return x.to_tensor(), y\n",
        "\n",
        "    return tf.data.Dataset.zip((\n",
        "        tf.data.Dataset.from_tensor_slices(X),\n",
        "        tf.data.Dataset.from_tensor_slices(Y)\n",
        "    )).batch(batch_size).map(_to_tensor)"
      ],
      "execution_count": 7,
      "outputs": []
    },
    {
      "cell_type": "code",
      "metadata": {
        "id": "rYBHZrUAiUV4",
        "colab_type": "code",
        "colab": {
          "base_uri": "https://localhost:8080/",
          "height": 51
        },
        "outputId": "85ef5eff-b33c-41c7-e083-2e715d4aa106"
      },
      "source": [
        "data_train = compose_data(train)\n",
        "data_dev = compose_data(dev)"
      ],
      "execution_count": 8,
      "outputs": [
        {
          "output_type": "stream",
          "text": [
            "100%|██████████| 238766/238766 [00:10<00:00, 23469.84it/s]\n",
            "100%|██████████| 8802/8802 [00:00<00:00, 22555.26it/s]\n"
          ],
          "name": "stderr"
        }
      ]
    },
    {
      "cell_type": "code",
      "metadata": {
        "id": "0Zjp91d8jDaU",
        "colab_type": "code",
        "colab": {
          "base_uri": "https://localhost:8080/",
          "height": 34
        },
        "outputId": "42b1508e-2950-476b-83ec-d5865bdec211"
      },
      "source": [
        "for x, y in data_train.take(1):\n",
        "  print(x.shape, y.shape)"
      ],
      "execution_count": 9,
      "outputs": [
        {
          "output_type": "stream",
          "text": [
            "(32, 52) (32,)\n"
          ],
          "name": "stdout"
        }
      ]
    },
    {
      "cell_type": "code",
      "metadata": {
        "id": "ryNNtQkBlHUa",
        "colab_type": "code",
        "colab": {}
      },
      "source": [
        "bert = hub.KerasLayer(\n",
        "    'https://code.aliyun.com/qhduan/zh-roberta-wwm/raw/2c0d7fd709e4719a9ab2ca297f51b24e20586dbe/zh-roberta-wwm-L12.tar.gz',\n",
        "    output_key='pooled_output',\n",
        "    trainable=True)"
      ],
      "execution_count": 10,
      "outputs": []
    },
    {
      "cell_type": "code",
      "metadata": {
        "id": "dFBNcOdLlKGn",
        "colab_type": "code",
        "colab": {}
      },
      "source": [
        "pred_y = bert(x)"
      ],
      "execution_count": 11,
      "outputs": []
    },
    {
      "cell_type": "code",
      "metadata": {
        "id": "tfjZYnI5lPls",
        "colab_type": "code",
        "colab": {
          "base_uri": "https://localhost:8080/",
          "height": 34
        },
        "outputId": "c4a47187-3b0f-4161-9aef-a9ed9ad8e658"
      },
      "source": [
        "print(pred_y.shape)"
      ],
      "execution_count": 18,
      "outputs": [
        {
          "output_type": "stream",
          "text": [
            "(32, 768)\n"
          ],
          "name": "stdout"
        }
      ]
    },
    {
      "cell_type": "code",
      "metadata": {
        "id": "oe_XMJlE7_ih",
        "colab_type": "code",
        "colab": {}
      },
      "source": [
        "# 用tf.keras.Sequential的话，可能导致模型无法load\n",
        "inputs = tf.keras.layers.Input(shape=(None,), dtype=tf.string)\n",
        "m = inputs\n",
        "m = bert(m)\n",
        "m = tf.keras.layers.Dense(2, activation='softmax')(m)\n",
        "model = tf.keras.Model(inputs=inputs, outputs=m)"
      ],
      "execution_count": 21,
      "outputs": []
    },
    {
      "cell_type": "code",
      "metadata": {
        "id": "YLlNEBAg8FOu",
        "colab_type": "code",
        "colab": {}
      },
      "source": [
        "model.compile(\n",
        "    loss=tf.keras.losses.SparseCategoricalCrossentropy(),\n",
        "    optimizer=tf.keras.optimizers.Adam(5e-6),\n",
        "    metrics=['acc']\n",
        ")"
      ],
      "execution_count": 22,
      "outputs": []
    },
    {
      "cell_type": "code",
      "metadata": {
        "id": "Ko8N21n_8JkI",
        "colab_type": "code",
        "colab": {
          "base_uri": "https://localhost:8080/",
          "height": 561
        },
        "outputId": "8770c99e-caed-4659-ee06-2ea5f0714f52"
      },
      "source": [
        "model.predict(x)"
      ],
      "execution_count": 23,
      "outputs": [
        {
          "output_type": "execute_result",
          "data": {
            "text/plain": [
              "array([[0.05853711, 0.9414628 ],\n",
              "       [0.05853711, 0.9414628 ],\n",
              "       [0.05853711, 0.94146293],\n",
              "       [0.05853711, 0.9414628 ],\n",
              "       [0.05853711, 0.94146293],\n",
              "       [0.05853711, 0.94146293],\n",
              "       [0.05853711, 0.9414628 ],\n",
              "       [0.05853709, 0.94146293],\n",
              "       [0.05853709, 0.94146293],\n",
              "       [0.05853709, 0.94146293],\n",
              "       [0.05853711, 0.9414628 ],\n",
              "       [0.05853711, 0.9414628 ],\n",
              "       [0.05853711, 0.94146293],\n",
              "       [0.05853711, 0.9414628 ],\n",
              "       [0.05853711, 0.9414628 ],\n",
              "       [0.05853711, 0.9414628 ],\n",
              "       [0.05853711, 0.94146293],\n",
              "       [0.05853711, 0.94146293],\n",
              "       [0.05853711, 0.94146293],\n",
              "       [0.05853711, 0.9414628 ],\n",
              "       [0.05853711, 0.9414628 ],\n",
              "       [0.05853709, 0.94146293],\n",
              "       [0.05853711, 0.9414628 ],\n",
              "       [0.05853711, 0.9414628 ],\n",
              "       [0.05853711, 0.9414628 ],\n",
              "       [0.05853711, 0.9414628 ],\n",
              "       [0.05853711, 0.94146293],\n",
              "       [0.05853711, 0.9414628 ],\n",
              "       [0.05853711, 0.9414628 ],\n",
              "       [0.05853711, 0.9414628 ],\n",
              "       [0.05853713, 0.9414628 ],\n",
              "       [0.05853711, 0.94146293]], dtype=float32)"
            ]
          },
          "metadata": {
            "tags": []
          },
          "execution_count": 23
        }
      ]
    },
    {
      "cell_type": "code",
      "metadata": {
        "id": "vBVaFady8LIm",
        "colab_type": "code",
        "colab": {
          "base_uri": "https://localhost:8080/",
          "height": 255
        },
        "outputId": "973d82e0-63d2-469e-e3cf-e58c20501db9"
      },
      "source": [
        "model.summary()"
      ],
      "execution_count": 24,
      "outputs": [
        {
          "output_type": "stream",
          "text": [
            "Model: \"model_1\"\n",
            "_________________________________________________________________\n",
            "Layer (type)                 Output Shape              Param #   \n",
            "=================================================================\n",
            "input_2 (InputLayer)         [(None, None)]            0         \n",
            "_________________________________________________________________\n",
            "keras_layer (KerasLayer)     (None, 768)               102880904 \n",
            "_________________________________________________________________\n",
            "dense_1 (Dense)              (None, 2)                 1538      \n",
            "=================================================================\n",
            "Total params: 102,882,442\n",
            "Trainable params: 102,882,442\n",
            "Non-trainable params: 0\n",
            "_________________________________________________________________\n"
          ],
          "name": "stdout"
        }
      ]
    },
    {
      "cell_type": "code",
      "metadata": {
        "id": "Fjsd4cCK8MHT",
        "colab_type": "code",
        "colab": {
          "base_uri": "https://localhost:8080/",
          "height": 51
        },
        "outputId": "89ebe30d-23e9-43e9-aaf9-b7867993d83e"
      },
      "source": [
        "model.fit(data_train, epochs=1, validation_data=data_dev)"
      ],
      "execution_count": 25,
      "outputs": [
        {
          "output_type": "stream",
          "text": [
            "7462/7462 [==============================] - 2035s 273ms/step - loss: 0.4749 - acc: 0.7607 - val_loss: 0.5099 - val_acc: 0.7628\n"
          ],
          "name": "stdout"
        },
        {
          "output_type": "execute_result",
          "data": {
            "text/plain": [
              "<tensorflow.python.keras.callbacks.History at 0x7f3e68eb8e10>"
            ]
          },
          "metadata": {
            "tags": []
          },
          "execution_count": 25
        }
      ]
    },
    {
      "cell_type": "code",
      "metadata": {
        "id": "Bv32o-Z38O7x",
        "colab_type": "code",
        "colab": {
          "base_uri": "https://localhost:8080/",
          "height": 51
        },
        "outputId": "cd761c23-4ea4-4466-c7c4-8a766478e0e4"
      },
      "source": [
        "model.evaluate(data_dev)"
      ],
      "execution_count": 26,
      "outputs": [
        {
          "output_type": "stream",
          "text": [
            "276/276 [==============================] - 21s 78ms/step - loss: 0.5099 - acc: 0.7628\n"
          ],
          "name": "stdout"
        },
        {
          "output_type": "execute_result",
          "data": {
            "text/plain": [
              "[0.5099160671234131, 0.7627812027931213]"
            ]
          },
          "metadata": {
            "tags": []
          },
          "execution_count": 26
        }
      ]
    },
    {
      "cell_type": "code",
      "metadata": {
        "id": "OJQ64tqFNn--",
        "colab_type": "code",
        "colab": {
          "base_uri": "https://localhost:8080/",
          "height": 173
        },
        "outputId": "826f74ab-30fc-43fa-9f8f-5da24b33f838"
      },
      "source": [
        "model.save('./test_model')"
      ],
      "execution_count": 27,
      "outputs": [
        {
          "output_type": "stream",
          "text": [
            "WARNING:tensorflow:From /usr/local/lib/python3.6/dist-packages/tensorflow/python/ops/resource_variable_ops.py:1817: calling BaseResourceVariable.__init__ (from tensorflow.python.ops.resource_variable_ops) with constraint is deprecated and will be removed in a future version.\n",
            "Instructions for updating:\n",
            "If using Keras pass *_constraint arguments to layers.\n"
          ],
          "name": "stdout"
        },
        {
          "output_type": "stream",
          "text": [
            "WARNING:tensorflow:From /usr/local/lib/python3.6/dist-packages/tensorflow/python/ops/resource_variable_ops.py:1817: calling BaseResourceVariable.__init__ (from tensorflow.python.ops.resource_variable_ops) with constraint is deprecated and will be removed in a future version.\n",
            "Instructions for updating:\n",
            "If using Keras pass *_constraint arguments to layers.\n"
          ],
          "name": "stderr"
        },
        {
          "output_type": "stream",
          "text": [
            "INFO:tensorflow:Assets written to: ./test_model/assets\n"
          ],
          "name": "stdout"
        },
        {
          "output_type": "stream",
          "text": [
            "INFO:tensorflow:Assets written to: ./test_model/assets\n"
          ],
          "name": "stderr"
        }
      ]
    },
    {
      "cell_type": "code",
      "metadata": {
        "id": "ii_9nDhNTPdn",
        "colab_type": "code",
        "colab": {
          "base_uri": "https://localhost:8080/",
          "height": 34
        },
        "outputId": "726067a0-ce1d-4b41-a7fa-ff226e219244"
      },
      "source": [
        "tf.keras.models.load_model('./test_model')"
      ],
      "execution_count": 28,
      "outputs": [
        {
          "output_type": "execute_result",
          "data": {
            "text/plain": [
              "<tensorflow.python.keras.engine.training.Model at 0x7f3e81173e48>"
            ]
          },
          "metadata": {
            "tags": []
          },
          "execution_count": 28
        }
      ]
    },
    {
      "cell_type": "code",
      "metadata": {
        "id": "YXxhjLH-fpjG",
        "colab_type": "code",
        "colab": {}
      },
      "source": [
        ""
      ],
      "execution_count": null,
      "outputs": []
    }
  ]
}