{
 "cells": [
  {
   "cell_type": "code",
   "execution_count": 1,
   "metadata": {},
   "outputs": [],
   "source": [
    "import os\n",
    "os.environ['CUDA_VISIBLE_DEVICES'] = ''"
   ]
  },
  {
   "cell_type": "code",
   "execution_count": 2,
   "metadata": {},
   "outputs": [],
   "source": [
    "import tensorflow as tf\n",
    "import tensorflow_hub as hub"
   ]
  },
  {
   "cell_type": "code",
   "execution_count": 3,
   "metadata": {},
   "outputs": [],
   "source": [
    "def save_model(model_path, save_path, tokenizer_path='./bert_tokenizer/'):\n",
    "    pool_layer = hub.KerasLayer(model_path, signature=\"tokens\", output_key='pooled_output', trainable=True)\n",
    "    seq_layer = hub.KerasLayer(model_path, signature=\"tokens\", output_key='sequence_output', trainable=True)\n",
    "    input_ids = tf.keras.Input(shape=(None,), dtype=tf.int32, name=\"input_ids\")\n",
    "\n",
    "    # hack\n",
    "    for w in pool_layer.weights:\n",
    "        pool_layer._add_existing_weight(w, trainable=True)\n",
    "    for w in seq_layer.weights:\n",
    "        seq_layer._add_existing_weight(w, trainable=True)\n",
    "\n",
    "    x = input_ids\n",
    "    type_ids = tf.keras.layers.Lambda(\n",
    "        lambda x: tf.zeros(shape=tf.shape(x), dtype=tf.int32), name='make_type_ids')(x)\n",
    "    mask = tf.keras.layers.Lambda(\n",
    "        lambda x: tf.ones(shape=tf.shape(x), dtype=tf.int32), name='make_mask')(x)\n",
    "\n",
    "    x_pool = pool_layer({\n",
    "        'segment_ids': type_ids,\n",
    "        'input_mask': mask,\n",
    "        'input_ids': x\n",
    "    })\n",
    "\n",
    "    x_seq = seq_layer({\n",
    "        'segment_ids': type_ids,\n",
    "        'input_mask': mask,\n",
    "        'input_ids': x\n",
    "    })\n",
    "\n",
    "    pool_model = tf.keras.Model(inputs=input_ids, outputs=x_pool)\n",
    "    seq_model = tf.keras.Model(inputs=input_ids, outputs=x_seq)\n",
    "\n",
    "    model = tf.keras.Sequential([\n",
    "        hub.KerasLayer(tokenizer_path),\n",
    "        pool_model\n",
    "    ])\n",
    "#     model._set_inputs(tf.keras.backend.placeholder((None, None), dtype=tf.int32))\n",
    "    model._set_inputs(tf.keras.backend.placeholder((None, 1), dtype=tf.string))\n",
    "    model.save(save_path + '_pool', include_optimizer=False)\n",
    "\n",
    "    model = tf.keras.Sequential([\n",
    "        hub.KerasLayer(tokenizer_path),\n",
    "        seq_model\n",
    "    ])\n",
    "#     model._set_inputs(tf.keras.backend.placeholder((None, None), dtype=tf.int32))\n",
    "    model._set_inputs(tf.keras.backend.placeholder((None, 1), dtype=tf.string))\n",
    "    model.save(save_path + '_seq', include_optimizer=False)"
   ]
  },
  {
   "cell_type": "code",
   "execution_count": 4,
   "metadata": {
    "scrolled": false
   },
   "outputs": [
    {
     "name": "stdout",
     "output_type": "stream",
     "text": [
      "WARNING:tensorflow:From /home/qhduan/.local/lib/python3.6/site-packages/tensorflow_core/python/ops/resource_variable_ops.py:1786: calling BaseResourceVariable.__init__ (from tensorflow.python.ops.resource_variable_ops) with constraint is deprecated and will be removed in a future version.\n",
      "Instructions for updating:\n",
      "If using Keras pass *_constraint arguments to layers.\n",
      "INFO:tensorflow:Assets written to: ./output/bert_zh_pool/assets\n",
      "WARNING:tensorflow:Unresolved object in checkpoint: (root).table._initializer\n",
      "WARNING:tensorflow:A checkpoint was restored (e.g. tf.train.Checkpoint.restore or tf.keras.Model.load_weights) but not all checkpointed values were used. See above for specific issues. Use expect_partial() on the load status object, e.g. tf.train.Checkpoint.restore(...).expect_partial(), to silence these warnings, or use assert_consumed() to make the check explicit. See https://www.tensorflow.org/guide/checkpoint#loading_mechanics for details.\n",
      "INFO:tensorflow:Assets written to: ./output/bert_zh_seq/assets\n",
      "WARNING:tensorflow:Unresolved object in checkpoint: (root).table._initializer\n",
      "WARNING:tensorflow:A checkpoint was restored (e.g. tf.train.Checkpoint.restore or tf.keras.Model.load_weights) but not all checkpointed values were used. See above for specific issues. Use expect_partial() on the load status object, e.g. tf.train.Checkpoint.restore(...).expect_partial(), to silence these warnings, or use assert_consumed() to make the check explicit. See https://www.tensorflow.org/guide/checkpoint#loading_mechanics for details.\n",
      "INFO:tensorflow:Assets written to: ./output/bert_wwm_zh_pool/assets\n",
      "WARNING:tensorflow:Unresolved object in checkpoint: (root).table._initializer\n",
      "WARNING:tensorflow:A checkpoint was restored (e.g. tf.train.Checkpoint.restore or tf.keras.Model.load_weights) but not all checkpointed values were used. See above for specific issues. Use expect_partial() on the load status object, e.g. tf.train.Checkpoint.restore(...).expect_partial(), to silence these warnings, or use assert_consumed() to make the check explicit. See https://www.tensorflow.org/guide/checkpoint#loading_mechanics for details.\n",
      "INFO:tensorflow:Assets written to: ./output/bert_wwm_zh_seq/assets\n",
      "WARNING:tensorflow:Unresolved object in checkpoint: (root).table._initializer\n",
      "WARNING:tensorflow:A checkpoint was restored (e.g. tf.train.Checkpoint.restore or tf.keras.Model.load_weights) but not all checkpointed values were used. See above for specific issues. Use expect_partial() on the load status object, e.g. tf.train.Checkpoint.restore(...).expect_partial(), to silence these warnings, or use assert_consumed() to make the check explicit. See https://www.tensorflow.org/guide/checkpoint#loading_mechanics for details.\n",
      "INFO:tensorflow:Assets written to: ./output/roberta_wwm_zh_pool/assets\n",
      "WARNING:tensorflow:Unresolved object in checkpoint: (root).table._initializer\n",
      "WARNING:tensorflow:A checkpoint was restored (e.g. tf.train.Checkpoint.restore or tf.keras.Model.load_weights) but not all checkpointed values were used. See above for specific issues. Use expect_partial() on the load status object, e.g. tf.train.Checkpoint.restore(...).expect_partial(), to silence these warnings, or use assert_consumed() to make the check explicit. See https://www.tensorflow.org/guide/checkpoint#loading_mechanics for details.\n",
      "INFO:tensorflow:Assets written to: ./output/roberta_wwm_zh_seq/assets\n"
     ]
    }
   ],
   "source": [
    "save_model('./hub/chinese_L-12_H-768_A-12', './output/bert_zh')\n",
    "save_model('./hub/chinese_wwm_ext_L-12_H-768_A-12', './output/bert_wwm_zh')\n",
    "save_model('./hub/chinese_roberta_wwm_ext_L-12_H-768_A-12', './output/roberta_wwm_zh')"
   ]
  },
  {
   "cell_type": "code",
   "execution_count": null,
   "metadata": {},
   "outputs": [],
   "source": []
  }
 ],
 "metadata": {
  "kernelspec": {
   "display_name": "Python 3",
   "language": "python",
   "name": "python3"
  },
  "language_info": {
   "codemirror_mode": {
    "name": "ipython",
    "version": 3
   },
   "file_extension": ".py",
   "mimetype": "text/x-python",
   "name": "python",
   "nbconvert_exporter": "python",
   "pygments_lexer": "ipython3",
   "version": "3.6.9"
  }
 },
 "nbformat": 4,
 "nbformat_minor": 2
}
