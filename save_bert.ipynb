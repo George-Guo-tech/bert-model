{
 "cells": [
  {
   "cell_type": "code",
   "execution_count": 1,
   "metadata": {},
   "outputs": [],
   "source": [
    "import os\n",
    "os.environ['CUDA_VISIBLE_DEVICES'] = ''"
   ]
  },
  {
   "cell_type": "code",
   "execution_count": 2,
   "metadata": {},
   "outputs": [],
   "source": [
    "import tensorflow as tf\n",
    "import tensorflow_hub as hub"
   ]
  },
  {
   "cell_type": "code",
   "execution_count": 3,
   "metadata": {},
   "outputs": [],
   "source": [
    "class BERT(tf.keras.Model):\n",
    "    \n",
    "    def __init__(self, model_path, tokenizer_path, **kwargs):\n",
    "        super(BERT, self).__init__(**kwargs)\n",
    "        self.tokenizer = hub.KerasLayer(tokenizer_path)\n",
    "        self.bert = hub.KerasLayer(\n",
    "            model_path, trainable=False, # TF1 version could not train\n",
    "            signature='tokens', signature_outputs_as_dict=True)\n",
    "        self.make_type_ids = tf.keras.layers.Lambda(\n",
    "            lambda x: tf.zeros(shape=tf.shape(x), dtype=tf.int32),\n",
    "            name='make_type_ids')\n",
    "        self.make_mask = tf.keras.layers.Lambda(\n",
    "            lambda x: tf.ones(shape=tf.shape(x), dtype=tf.int32),\n",
    "            name='make_mask')\n",
    "    \n",
    "    def call(self, input_str, segment_ids=None, input_mask=None, training=False, **kwargs):\n",
    "        input_ids = self.tokenizer(input_str)\n",
    "        if segment_ids is None:\n",
    "            segment_ids = self.make_type_ids(input_ids)\n",
    "        if input_mask is None:\n",
    "            input_mask = self.make_mask(input_ids)\n",
    "        output = self.bert({\n",
    "            'input_ids': input_ids,\n",
    "            'segment_ids': segment_ids,\n",
    "            'input_mask': input_mask\n",
    "        })\n",
    "        return output\n",
    "        # return output['pooled_output'], output['sequence_output']"
   ]
  },
  {
   "cell_type": "code",
   "execution_count": 4,
   "metadata": {},
   "outputs": [],
   "source": [
    "def save_model(model_path, save_path, tokenizer_path):\n",
    "    bert = BERT(model_path=model_path, tokenizer_path=tokenizer_path)\n",
    "    bert._set_inputs(\n",
    "        tf.keras.backend.placeholder((None, None), dtype='string'))\n",
    "    bert.save(save_path, include_optimizer=False)"
   ]
  },
  {
   "cell_type": "code",
   "execution_count": 5,
   "metadata": {},
   "outputs": [
    {
     "name": "stdout",
     "output_type": "stream",
     "text": [
      "WARNING:tensorflow:From /home/qhduan/.local/lib/python3.7/site-packages/tensorflow/python/ops/resource_variable_ops.py:1817: calling BaseResourceVariable.__init__ (from tensorflow.python.ops.resource_variable_ops) with constraint is deprecated and will be removed in a future version.\n",
      "Instructions for updating:\n",
      "If using Keras pass *_constraint arguments to layers.\n",
      "INFO:tensorflow:Assets written to: ./output/bert_zh/assets\n",
      "WARNING:tensorflow:Unresolved object in checkpoint: (root).table._initializer\n",
      "WARNING:tensorflow:A checkpoint was restored (e.g. tf.train.Checkpoint.restore or tf.keras.Model.load_weights) but not all checkpointed values were used. See above for specific issues. Use expect_partial() on the load status object, e.g. tf.train.Checkpoint.restore(...).expect_partial(), to silence these warnings, or use assert_consumed() to make the check explicit. See https://www.tensorflow.org/guide/checkpoint#loading_mechanics for details.\n",
      "INFO:tensorflow:Assets written to: ./output/bert_wwm_zh/assets\n",
      "WARNING:tensorflow:Unresolved object in checkpoint: (root).table._initializer\n",
      "WARNING:tensorflow:A checkpoint was restored (e.g. tf.train.Checkpoint.restore or tf.keras.Model.load_weights) but not all checkpointed values were used. See above for specific issues. Use expect_partial() on the load status object, e.g. tf.train.Checkpoint.restore(...).expect_partial(), to silence these warnings, or use assert_consumed() to make the check explicit. See https://www.tensorflow.org/guide/checkpoint#loading_mechanics for details.\n",
      "INFO:tensorflow:Assets written to: ./output/roberta_wwm_zh/assets\n",
      "WARNING:tensorflow:Unresolved object in checkpoint: (root).table._initializer\n",
      "WARNING:tensorflow:A checkpoint was restored (e.g. tf.train.Checkpoint.restore or tf.keras.Model.load_weights) but not all checkpointed values were used. See above for specific issues. Use expect_partial() on the load status object, e.g. tf.train.Checkpoint.restore(...).expect_partial(), to silence these warnings, or use assert_consumed() to make the check explicit. See https://www.tensorflow.org/guide/checkpoint#loading_mechanics for details.\n",
      "INFO:tensorflow:Assets written to: ./output/roberta_wwm_large_zh/assets\n"
     ]
    }
   ],
   "source": [
    "# !rm -rf ./output/*\n",
    "\n",
    "save_model(\n",
    "    model_path='./hub/chinese_L-12_H-768_A-12',\n",
    "    save_path='./output/bert_zh',\n",
    "    tokenizer_path='bert_token2ids')\n",
    "\n",
    "save_model(\n",
    "    model_path='./hub/chinese_wwm_ext_L-12_H-768_A-12',\n",
    "    save_path='./output/bert_wwm_zh',\n",
    "    tokenizer_path='bert_token2ids')\n",
    "\n",
    "save_model(\n",
    "    model_path='./hub/chinese_roberta_wwm_ext_L-12_H-768_A-12',\n",
    "    save_path='./output/roberta_wwm_zh',\n",
    "    tokenizer_path='bert_token2ids')\n",
    "\n",
    "save_model(\n",
    "    model_path='./hub/chinese_roberta_wwm_large_ext_L-24_H-1024_A-16',\n",
    "    save_path='./output/roberta_wwm_large_zh',\n",
    "    tokenizer_path='bert_token2ids')"
   ]
  },
  {
   "cell_type": "code",
   "execution_count": 7,
   "metadata": {
    "scrolled": true
   },
   "outputs": [
    {
     "name": "stdout",
     "output_type": "stream",
     "text": [
      "INFO:tensorflow:Assets written to: ./outputs/bert_wwm_zh_1/assets\n",
      "INFO:tensorflow:Assets written to: ./outputs/roberta_wwm_zh_1/assets\n",
      "WARNING:tensorflow:Unresolved object in checkpoint: (root).table._initializer\n",
      "WARNING:tensorflow:A checkpoint was restored (e.g. tf.train.Checkpoint.restore or tf.keras.Model.load_weights) but not all checkpointed values were used. See above for specific issues. Use expect_partial() on the load status object, e.g. tf.train.Checkpoint.restore(...).expect_partial(), to silence these warnings, or use assert_consumed() to make the check explicit. See https://www.tensorflow.org/guide/checkpoint#loading_mechanics for details.\n",
      "WARNING:tensorflow:Unresolved object in checkpoint: (root).table._initializer\n",
      "WARNING:tensorflow:A checkpoint was restored (e.g. tf.train.Checkpoint.restore or tf.keras.Model.load_weights) but not all checkpointed values were used. See above for specific issues. Use expect_partial() on the load status object, e.g. tf.train.Checkpoint.restore(...).expect_partial(), to silence these warnings, or use assert_consumed() to make the check explicit. See https://www.tensorflow.org/guide/checkpoint#loading_mechanics for details.\n",
      "WARNING:tensorflow:Unresolved object in checkpoint: (root).table._initializer\n",
      "WARNING:tensorflow:A checkpoint was restored (e.g. tf.train.Checkpoint.restore or tf.keras.Model.load_weights) but not all checkpointed values were used. See above for specific issues. Use expect_partial() on the load status object, e.g. tf.train.Checkpoint.restore(...).expect_partial(), to silence these warnings, or use assert_consumed() to make the check explicit. See https://www.tensorflow.org/guide/checkpoint#loading_mechanics for details.\n",
      "INFO:tensorflow:Assets written to: ./outputs/bert_wwm_zh_2/assets\n",
      "INFO:tensorflow:Assets written to: ./outputs/roberta_wwm_zh_2/assets\n",
      "WARNING:tensorflow:Unresolved object in checkpoint: (root).table._initializer\n",
      "WARNING:tensorflow:A checkpoint was restored (e.g. tf.train.Checkpoint.restore or tf.keras.Model.load_weights) but not all checkpointed values were used. See above for specific issues. Use expect_partial() on the load status object, e.g. tf.train.Checkpoint.restore(...).expect_partial(), to silence these warnings, or use assert_consumed() to make the check explicit. See https://www.tensorflow.org/guide/checkpoint#loading_mechanics for details.\n",
      "WARNING:tensorflow:Unresolved object in checkpoint: (root).table._initializer\n",
      "WARNING:tensorflow:A checkpoint was restored (e.g. tf.train.Checkpoint.restore or tf.keras.Model.load_weights) but not all checkpointed values were used. See above for specific issues. Use expect_partial() on the load status object, e.g. tf.train.Checkpoint.restore(...).expect_partial(), to silence these warnings, or use assert_consumed() to make the check explicit. See https://www.tensorflow.org/guide/checkpoint#loading_mechanics for details.\n",
      "INFO:tensorflow:Assets written to: ./outputs/bert_wwm_zh_3/assets\n",
      "WARNING:tensorflow:Unresolved object in checkpoint: (root).table._initializer\n",
      "WARNING:tensorflow:A checkpoint was restored (e.g. tf.train.Checkpoint.restore or tf.keras.Model.load_weights) but not all checkpointed values were used. See above for specific issues. Use expect_partial() on the load status object, e.g. tf.train.Checkpoint.restore(...).expect_partial(), to silence these warnings, or use assert_consumed() to make the check explicit. See https://www.tensorflow.org/guide/checkpoint#loading_mechanics for details.\n",
      "INFO:tensorflow:Assets written to: ./outputs/roberta_wwm_zh_3/assets\n",
      "WARNING:tensorflow:Unresolved object in checkpoint: (root).table._initializer\n",
      "WARNING:tensorflow:A checkpoint was restored (e.g. tf.train.Checkpoint.restore or tf.keras.Model.load_weights) but not all checkpointed values were used. See above for specific issues. Use expect_partial() on the load status object, e.g. tf.train.Checkpoint.restore(...).expect_partial(), to silence these warnings, or use assert_consumed() to make the check explicit. See https://www.tensorflow.org/guide/checkpoint#loading_mechanics for details.\n",
      "INFO:tensorflow:Assets written to: ./outputs/bert_wwm_zh_4/assets\n",
      "INFO:tensorflow:Assets written to: ./outputs/roberta_wwm_zh_4/assets\n",
      "WARNING:tensorflow:Unresolved object in checkpoint: (root).table._initializer\n",
      "WARNING:tensorflow:A checkpoint was restored (e.g. tf.train.Checkpoint.restore or tf.keras.Model.load_weights) but not all checkpointed values were used. See above for specific issues. Use expect_partial() on the load status object, e.g. tf.train.Checkpoint.restore(...).expect_partial(), to silence these warnings, or use assert_consumed() to make the check explicit. See https://www.tensorflow.org/guide/checkpoint#loading_mechanics for details.\n",
      "WARNING:tensorflow:Unresolved object in checkpoint: (root).table._initializer\n",
      "WARNING:tensorflow:A checkpoint was restored (e.g. tf.train.Checkpoint.restore or tf.keras.Model.load_weights) but not all checkpointed values were used. See above for specific issues. Use expect_partial() on the load status object, e.g. tf.train.Checkpoint.restore(...).expect_partial(), to silence these warnings, or use assert_consumed() to make the check explicit. See https://www.tensorflow.org/guide/checkpoint#loading_mechanics for details.\n",
      "INFO:tensorflow:Assets written to: ./outputs/bert_wwm_zh_5/assets\n",
      "WARNING:tensorflow:Unresolved object in checkpoint: (root).table._initializer\n",
      "WARNING:tensorflow:A checkpoint was restored (e.g. tf.train.Checkpoint.restore or tf.keras.Model.load_weights) but not all checkpointed values were used. See above for specific issues. Use expect_partial() on the load status object, e.g. tf.train.Checkpoint.restore(...).expect_partial(), to silence these warnings, or use assert_consumed() to make the check explicit. See https://www.tensorflow.org/guide/checkpoint#loading_mechanics for details.\n",
      "INFO:tensorflow:Assets written to: ./outputs/roberta_wwm_zh_5/assets\n",
      "WARNING:tensorflow:Unresolved object in checkpoint: (root).table._initializer\n",
      "WARNING:tensorflow:A checkpoint was restored (e.g. tf.train.Checkpoint.restore or tf.keras.Model.load_weights) but not all checkpointed values were used. See above for specific issues. Use expect_partial() on the load status object, e.g. tf.train.Checkpoint.restore(...).expect_partial(), to silence these warnings, or use assert_consumed() to make the check explicit. See https://www.tensorflow.org/guide/checkpoint#loading_mechanics for details.\n",
      "INFO:tensorflow:Assets written to: ./outputs/bert_wwm_zh_6/assets\n",
      "WARNING:tensorflow:Unresolved object in checkpoint: (root).table._initializer\n",
      "WARNING:tensorflow:A checkpoint was restored (e.g. tf.train.Checkpoint.restore or tf.keras.Model.load_weights) but not all checkpointed values were used. See above for specific issues. Use expect_partial() on the load status object, e.g. tf.train.Checkpoint.restore(...).expect_partial(), to silence these warnings, or use assert_consumed() to make the check explicit. See https://www.tensorflow.org/guide/checkpoint#loading_mechanics for details.\n",
      "INFO:tensorflow:Assets written to: ./outputs/roberta_wwm_zh_6/assets\n",
      "WARNING:tensorflow:Unresolved object in checkpoint: (root).table._initializer\n",
      "WARNING:tensorflow:A checkpoint was restored (e.g. tf.train.Checkpoint.restore or tf.keras.Model.load_weights) but not all checkpointed values were used. See above for specific issues. Use expect_partial() on the load status object, e.g. tf.train.Checkpoint.restore(...).expect_partial(), to silence these warnings, or use assert_consumed() to make the check explicit. See https://www.tensorflow.org/guide/checkpoint#loading_mechanics for details.\n",
      "INFO:tensorflow:Assets written to: ./outputs/bert_wwm_zh_7/assets\n",
      "WARNING:tensorflow:Unresolved object in checkpoint: (root).table._initializer\n",
      "WARNING:tensorflow:A checkpoint was restored (e.g. tf.train.Checkpoint.restore or tf.keras.Model.load_weights) but not all checkpointed values were used. See above for specific issues. Use expect_partial() on the load status object, e.g. tf.train.Checkpoint.restore(...).expect_partial(), to silence these warnings, or use assert_consumed() to make the check explicit. See https://www.tensorflow.org/guide/checkpoint#loading_mechanics for details.\n"
     ]
    },
    {
     "name": "stdout",
     "output_type": "stream",
     "text": [
      "INFO:tensorflow:Assets written to: ./outputs/roberta_wwm_zh_7/assets\n",
      "WARNING:tensorflow:Unresolved object in checkpoint: (root).table._initializer\n",
      "WARNING:tensorflow:A checkpoint was restored (e.g. tf.train.Checkpoint.restore or tf.keras.Model.load_weights) but not all checkpointed values were used. See above for specific issues. Use expect_partial() on the load status object, e.g. tf.train.Checkpoint.restore(...).expect_partial(), to silence these warnings, or use assert_consumed() to make the check explicit. See https://www.tensorflow.org/guide/checkpoint#loading_mechanics for details.\n",
      "INFO:tensorflow:Assets written to: ./outputs/bert_wwm_zh_8/assets\n",
      "WARNING:tensorflow:Unresolved object in checkpoint: (root).table._initializer\n",
      "WARNING:tensorflow:A checkpoint was restored (e.g. tf.train.Checkpoint.restore or tf.keras.Model.load_weights) but not all checkpointed values were used. See above for specific issues. Use expect_partial() on the load status object, e.g. tf.train.Checkpoint.restore(...).expect_partial(), to silence these warnings, or use assert_consumed() to make the check explicit. See https://www.tensorflow.org/guide/checkpoint#loading_mechanics for details.\n",
      "INFO:tensorflow:Assets written to: ./outputs/roberta_wwm_zh_8/assets\n",
      "WARNING:tensorflow:Unresolved object in checkpoint: (root).table._initializer\n",
      "WARNING:tensorflow:A checkpoint was restored (e.g. tf.train.Checkpoint.restore or tf.keras.Model.load_weights) but not all checkpointed values were used. See above for specific issues. Use expect_partial() on the load status object, e.g. tf.train.Checkpoint.restore(...).expect_partial(), to silence these warnings, or use assert_consumed() to make the check explicit. See https://www.tensorflow.org/guide/checkpoint#loading_mechanics for details.\n",
      "INFO:tensorflow:Assets written to: ./outputs/bert_wwm_zh_9/assets\n",
      "WARNING:tensorflow:Unresolved object in checkpoint: (root).table._initializer\n",
      "WARNING:tensorflow:A checkpoint was restored (e.g. tf.train.Checkpoint.restore or tf.keras.Model.load_weights) but not all checkpointed values were used. See above for specific issues. Use expect_partial() on the load status object, e.g. tf.train.Checkpoint.restore(...).expect_partial(), to silence these warnings, or use assert_consumed() to make the check explicit. See https://www.tensorflow.org/guide/checkpoint#loading_mechanics for details.\n",
      "INFO:tensorflow:Assets written to: ./outputs/roberta_wwm_zh_9/assets\n",
      "WARNING:tensorflow:Unresolved object in checkpoint: (root).table._initializer\n",
      "WARNING:tensorflow:A checkpoint was restored (e.g. tf.train.Checkpoint.restore or tf.keras.Model.load_weights) but not all checkpointed values were used. See above for specific issues. Use expect_partial() on the load status object, e.g. tf.train.Checkpoint.restore(...).expect_partial(), to silence these warnings, or use assert_consumed() to make the check explicit. See https://www.tensorflow.org/guide/checkpoint#loading_mechanics for details.\n",
      "INFO:tensorflow:Assets written to: ./outputs/bert_wwm_zh_10/assets\n",
      "WARNING:tensorflow:Unresolved object in checkpoint: (root).table._initializer\n",
      "WARNING:tensorflow:A checkpoint was restored (e.g. tf.train.Checkpoint.restore or tf.keras.Model.load_weights) but not all checkpointed values were used. See above for specific issues. Use expect_partial() on the load status object, e.g. tf.train.Checkpoint.restore(...).expect_partial(), to silence these warnings, or use assert_consumed() to make the check explicit. See https://www.tensorflow.org/guide/checkpoint#loading_mechanics for details.\n",
      "INFO:tensorflow:Assets written to: ./outputs/roberta_wwm_zh_10/assets\n",
      "WARNING:tensorflow:Unresolved object in checkpoint: (root).table._initializer\n",
      "WARNING:tensorflow:A checkpoint was restored (e.g. tf.train.Checkpoint.restore or tf.keras.Model.load_weights) but not all checkpointed values were used. See above for specific issues. Use expect_partial() on the load status object, e.g. tf.train.Checkpoint.restore(...).expect_partial(), to silence these warnings, or use assert_consumed() to make the check explicit. See https://www.tensorflow.org/guide/checkpoint#loading_mechanics for details.\n",
      "INFO:tensorflow:Assets written to: ./outputs/bert_wwm_zh_11/assets\n",
      "WARNING:tensorflow:Unresolved object in checkpoint: (root).table._initializer\n",
      "WARNING:tensorflow:A checkpoint was restored (e.g. tf.train.Checkpoint.restore or tf.keras.Model.load_weights) but not all checkpointed values were used. See above for specific issues. Use expect_partial() on the load status object, e.g. tf.train.Checkpoint.restore(...).expect_partial(), to silence these warnings, or use assert_consumed() to make the check explicit. See https://www.tensorflow.org/guide/checkpoint#loading_mechanics for details.\n",
      "INFO:tensorflow:Assets written to: ./outputs/roberta_wwm_zh_11/assets\n"
     ]
    }
   ],
   "source": [
    "for i in range(1, 12):\n",
    "    save_model(\n",
    "        model_path=f'./hubs/chinese_L-12_H-768_A-12-{i}',\n",
    "        save_path=f'./outputs/bert_zh_{i}',\n",
    "        tokenizer_path='bert_token2ids')\n",
    "    save_model(\n",
    "        model_path=f'./hubs/chinese_wwm_ext_L-12_H-768_A-12-{i}',\n",
    "        save_path=f'./outputs/bert_wwm_zh_{i}',\n",
    "        tokenizer_path='bert_token2ids')\n",
    "    save_model(\n",
    "        model_path=f'./hubs/chinese_roberta_wwm_ext_L-12_H-768_A-12-{i}',\n",
    "        save_path=f'./outputs/roberta_wwm_zh_{i}',\n",
    "        tokenizer_path='bert_token2ids')"
   ]
  },
  {
   "cell_type": "code",
   "execution_count": 9,
   "metadata": {
    "scrolled": true
   },
   "outputs": [
    {
     "name": "stdout",
     "output_type": "stream",
     "text": [
      "WARNING:tensorflow:Unresolved object in checkpoint: (root).table._initializer\n",
      "WARNING:tensorflow:A checkpoint was restored (e.g. tf.train.Checkpoint.restore or tf.keras.Model.load_weights) but not all checkpointed values were used. See above for specific issues. Use expect_partial() on the load status object, e.g. tf.train.Checkpoint.restore(...).expect_partial(), to silence these warnings, or use assert_consumed() to make the check explicit. See https://www.tensorflow.org/guide/checkpoint#loading_mechanics for details.\n",
      "INFO:tensorflow:Assets written to: ./outputs/roberta_wwm_large_zh_23/assets\n"
     ]
    }
   ],
   "source": [
    "for i in range(1, 24):\n",
    "    save_model(\n",
    "        model_path=f'./hubs/chinese_roberta_wwm_large_ext_L-24_H-1024_A-16-{i}',\n",
    "        save_path=f'./outputs/roberta_wwm_large_zh_{i}',\n",
    "        tokenizer_path='bert_token2ids')"
   ]
  },
  {
   "cell_type": "code",
   "execution_count": null,
   "metadata": {},
   "outputs": [],
   "source": []
  }
 ],
 "metadata": {
  "kernelspec": {
   "display_name": "Python 3",
   "language": "python",
   "name": "python3"
  },
  "language_info": {
   "codemirror_mode": {
    "name": "ipython",
    "version": 3
   },
   "file_extension": ".py",
   "mimetype": "text/x-python",
   "name": "python",
   "nbconvert_exporter": "python",
   "pygments_lexer": "ipython3",
   "version": "3.7.5"
  }
 },
 "nbformat": 4,
 "nbformat_minor": 2
}
