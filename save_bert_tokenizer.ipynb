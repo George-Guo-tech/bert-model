{
 "cells": [
  {
   "cell_type": "markdown",
   "metadata": {},
   "source": [
    "简单的tokenizer\n",
    "\n",
    "英文都会拆到char\n",
    "\n",
    "基本相当于list(inputs_str.replace(' ', ''))"
   ]
  },
  {
   "cell_type": "code",
   "execution_count": 1,
   "metadata": {},
   "outputs": [],
   "source": [
    "import os\n",
    "os.environ['CUDA_VISIBLE_DEVICES'] = ''\n",
    "import re\n",
    "import tensorflow as tf\n",
    "import unicodedata\n",
    "from collections import Counter\n",
    "import random"
   ]
  },
  {
   "cell_type": "code",
   "execution_count": 2,
   "metadata": {
    "scrolled": true
   },
   "outputs": [
    {
     "name": "stdout",
     "output_type": "stream",
     "text": [
      "104\n"
     ]
    }
   ],
   "source": [
    "word_index = {}\n",
    "special = []\n",
    "with open('./vocab.txt') as fp:\n",
    "    for i, line in enumerate(fp):\n",
    "        line = line.strip().lower()\n",
    "        word_index[line] = i\n",
    "        if line.startswith('[') and line.endswith(']'):\n",
    "            special.append(line)\n",
    "\n",
    "print(len(special))"
   ]
  },
  {
   "cell_type": "code",
   "execution_count": 3,
   "metadata": {},
   "outputs": [
    {
     "data": {
      "text/plain": [
       "['[pad]', '[unused1]', '[unused2]']"
      ]
     },
     "execution_count": 3,
     "metadata": {},
     "output_type": "execute_result"
    }
   ],
   "source": [
    "special[:3]"
   ]
  },
  {
   "cell_type": "code",
   "execution_count": 4,
   "metadata": {},
   "outputs": [],
   "source": [
    "class BertTokenizer(tf.keras.models.Model):\n",
    "    def __init__(self, word_index, **args):\n",
    "        super(BertTokenizer, self).__init__(**args)\n",
    "    \n",
    "    @tf.function(experimental_relax_shapes=True)\n",
    "    def call(self, inputs):\n",
    "        x = inputs\n",
    "        x = tf.strings.lower(x)\n",
    "        x = tf.strings.regex_replace(x, tf.constant(r'\\s+'), tf.constant(''))\n",
    "        x = tf.strings.unicode_split(x, 'UTF-8')\n",
    "        x = tf.strings.reduce_join(x, separator=' ', axis=-1)\n",
    "        x = tf.strings.regex_replace(x, r'\\[ p a d \\]', ' [pad] ')\n",
    "        x = tf.strings.regex_replace(x, r'\\[ u n k \\]', ' [unk] ')\n",
    "        x = tf.strings.regex_replace(x, r'\\[ c l s \\]', ' [cls] ')\n",
    "        x = tf.strings.regex_replace(x, r'\\[ s e p \\]', ' [sep] ')\n",
    "        x = tf.strings.regex_replace(x, r'\\[ m a s k \\]', ' [mask] ')\n",
    "        x = x.to_tensor()\n",
    "        return x\n",
    "\n",
    "    def compute_output_shape(self, input_shape):\n",
    "        return input_shape"
   ]
  },
  {
   "cell_type": "code",
   "execution_count": 5,
   "metadata": {},
   "outputs": [],
   "source": [
    "t = BertTokenizer(word_index)"
   ]
  },
  {
   "cell_type": "code",
   "execution_count": 6,
   "metadata": {},
   "outputs": [
    {
     "data": {
      "text/plain": [
       "<tf.Tensor: shape=(2, 1), dtype=string, numpy=\n",
       "array([[b'\\xe6\\x88\\x91 \\xe7\\x88\\xb1 \\xe4\\xbd\\xa0'],\n",
       "       [b'\\xe6\\x88\\x91']], dtype=object)>"
      ]
     },
     "execution_count": 6,
     "metadata": {},
     "output_type": "execute_result"
    }
   ],
   "source": [
    "t([['我爱你'], ['我']])"
   ]
  },
  {
   "cell_type": "code",
   "execution_count": 7,
   "metadata": {},
   "outputs": [],
   "source": [
    "class BertIds(tf.keras.models.Model):\n",
    "    def __init__(self, word_index, **args):\n",
    "        super(BertIds, self).__init__(**args)\n",
    "        self.construct(word_index)\n",
    "    \n",
    "    def construct(self, word_index):\n",
    "        keys = tf.constant(list(word_index.keys()), dtype=tf.string)\n",
    "        values = tf.constant(list(word_index.values()), dtype=tf.int32)\n",
    "        self.table = tf.lookup.StaticHashTable(\n",
    "            tf.lookup.KeyValueTensorInitializer(keys, values),\n",
    "            tf.constant(word_index['[unk]'])) # default value\n",
    "    \n",
    "    @tf.function(experimental_relax_shapes=True)\n",
    "    def call(self, inputs):\n",
    "        x = inputs\n",
    "\n",
    "        x = tf.strings.split(x)\n",
    "        x = x.to_tensor('[pad]')\n",
    "        x = tf.squeeze(x, axis=1)\n",
    "        x = self.table.lookup(x)\n",
    "\n",
    "        cls = tf.fill([tf.shape(x)[0], 1], tf.constant(101))\n",
    "        pad = tf.fill([tf.shape(x)[0], 1], tf.constant(0))\n",
    "        x = x[:, :510]\n",
    "        x = tf.concat([cls, x, pad], axis=1)\n",
    "    \n",
    "        row_inds = tf.range(0, tf.shape(x)[0])\n",
    "        col_inds = tf.math.count_nonzero(x, axis=1)\n",
    "        col_inds = tf.cast(col_inds, tf.int32)\n",
    "        inds = tf.concat([\n",
    "            tf.reshape(row_inds, (-1, 1)),\n",
    "            tf.reshape(col_inds, (-1, 1))], axis=1)\n",
    "        fill = tf.ones(tf.shape(x)[0], dtype=tf.int32)\n",
    "        shape = tf.cast(tf.shape(x), tf.int32)\n",
    "        sep = tf.scatter_nd(inds, fill, shape) * tf.constant(102)\n",
    "        x = x + sep\n",
    "    \n",
    "        return x\n",
    "\n",
    "    def compute_output_shape(self, input_shape):\n",
    "        return input_shape"
   ]
  },
  {
   "cell_type": "code",
   "execution_count": 8,
   "metadata": {},
   "outputs": [],
   "source": [
    "t = BertIds(word_index)"
   ]
  },
  {
   "cell_type": "code",
   "execution_count": 9,
   "metadata": {},
   "outputs": [
    {
     "data": {
      "text/plain": [
       "<tf.Tensor: shape=(2, 5), dtype=int32, numpy=\n",
       "array([[ 101, 2769, 4263,  872,  102],\n",
       "       [ 101, 2769,  102,    0,    0]], dtype=int32)>"
      ]
     },
     "execution_count": 9,
     "metadata": {},
     "output_type": "execute_result"
    }
   ],
   "source": [
    "t([['我 爱 你'], ['我']])"
   ]
  },
  {
   "cell_type": "code",
   "execution_count": 10,
   "metadata": {},
   "outputs": [],
   "source": [
    "text = tf.constant([\n",
    "    ['我爱  你'],\n",
    "    ['我，你[MASK][MASK]有'],\n",
    "    ['我' * 500]\n",
    "] * 10)"
   ]
  },
  {
   "cell_type": "code",
   "execution_count": 11,
   "metadata": {
    "scrolled": true
   },
   "outputs": [],
   "source": [
    "bt = BertTokenizer(word_index)\n",
    "y = bt(text)"
   ]
  },
  {
   "cell_type": "code",
   "execution_count": 12,
   "metadata": {},
   "outputs": [
    {
     "data": {
      "text/plain": [
       "<tf.Tensor: shape=(30, 502), dtype=int32, numpy=\n",
       "array([[ 101, 2769, 4263, ...,    0,    0,    0],\n",
       "       [ 101, 2769, 8024, ...,    0,    0,    0],\n",
       "       [ 101, 2769, 2769, ..., 2769, 2769,  102],\n",
       "       ...,\n",
       "       [ 101, 2769, 4263, ...,    0,    0,    0],\n",
       "       [ 101, 2769, 8024, ...,    0,    0,    0],\n",
       "       [ 101, 2769, 2769, ..., 2769, 2769,  102]], dtype=int32)>"
      ]
     },
     "execution_count": 12,
     "metadata": {},
     "output_type": "execute_result"
    }
   ],
   "source": [
    "bid = BertIds(word_index)\n",
    "bid(y)"
   ]
  },
  {
   "cell_type": "code",
   "execution_count": 13,
   "metadata": {},
   "outputs": [
    {
     "name": "stdout",
     "output_type": "stream",
     "text": [
      "908 µs ± 1.97 µs per loop (mean ± std. dev. of 7 runs, 1000 loops each)\n"
     ]
    }
   ],
   "source": [
    "%%timeit\n",
    "bt(text)"
   ]
  },
  {
   "cell_type": "code",
   "execution_count": 14,
   "metadata": {},
   "outputs": [
    {
     "name": "stdout",
     "output_type": "stream",
     "text": [
      "913 µs ± 13.4 µs per loop (mean ± std. dev. of 7 runs, 1000 loops each)\n"
     ]
    }
   ],
   "source": [
    "%%timeit\n",
    "bid(y)"
   ]
  },
  {
   "cell_type": "code",
   "execution_count": 15,
   "metadata": {},
   "outputs": [
    {
     "data": {
      "text/plain": [
       "<tf.Tensor: shape=(2, 13), dtype=int32, numpy=\n",
       "array([[ 101, 2769,  102,    0,    0,    0,    0,    0,    0,    0,    0,\n",
       "           0,    0],\n",
       "       [ 101, 2769, 4263,  872,  101, 7583, 7583,  103, 7583,  100, 1521,\n",
       "         102,  102]], dtype=int32)>"
      ]
     },
     "execution_count": 15,
     "metadata": {},
     "output_type": "execute_result"
    }
   ],
   "source": [
    "bid(bt([['我'], ['我爱你[cls]额额[mask]额[unk]哦[sep]']]))"
   ]
  },
  {
   "cell_type": "code",
   "execution_count": 16,
   "metadata": {},
   "outputs": [
    {
     "name": "stdout",
     "output_type": "stream",
     "text": [
      "INFO:tensorflow:Assets written to: bert_tokenizer/assets\n"
     ]
    }
   ],
   "source": [
    "save_path = 'bert_tokenizer'\n",
    "\n",
    "model = tf.keras.Sequential([\n",
    "    BertTokenizer(word_index, name='bert_tokenizer'),\n",
    "    BertIds(word_index, name='bert_token_to_ids'),\n",
    "])\n",
    "model._set_inputs(tf.keras.backend.placeholder((None, 1), dtype='string'))\n",
    "model.save(save_path, include_optimizer=False)"
   ]
  },
  {
   "cell_type": "code",
   "execution_count": 17,
   "metadata": {},
   "outputs": [
    {
     "name": "stdout",
     "output_type": "stream",
     "text": [
      "Model: \"sequential\"\n",
      "_________________________________________________________________\n",
      "Layer (type)                 Output Shape              Param #   \n",
      "=================================================================\n",
      "bert_tokenizer (BertTokenize multiple                  0         \n",
      "_________________________________________________________________\n",
      "bert_token_to_ids (BertIds)  multiple                  0         \n",
      "=================================================================\n",
      "Total params: 0\n",
      "Trainable params: 0\n",
      "Non-trainable params: 0\n",
      "_________________________________________________________________\n"
     ]
    }
   ],
   "source": [
    "model.summary()"
   ]
  },
  {
   "cell_type": "code",
   "execution_count": 18,
   "metadata": {},
   "outputs": [],
   "source": [
    "m2 = tf.keras.models.load_model(save_path)"
   ]
  },
  {
   "cell_type": "code",
   "execution_count": 19,
   "metadata": {},
   "outputs": [],
   "source": [
    "text = [\n",
    "    ['我爱你[mask] [mask]哦'],\n",
    "    ['我[unk][MASK]'],\n",
    "    ['important']\n",
    "]\n",
    "vec = tf.constant(text)"
   ]
  },
  {
   "cell_type": "code",
   "execution_count": 20,
   "metadata": {},
   "outputs": [
    {
     "data": {
      "text/plain": [
       "<tf.Tensor: shape=(3, 11), dtype=int32, numpy=\n",
       "array([[ 101, 2769, 4263,  872,  103,  103, 1521,  102,    0,    0,    0],\n",
       "       [ 101, 2769,  100,  103,  102,    0,    0,    0,    0,    0,    0],\n",
       "       [ 101,  151,  155,  158,  157,  160,  162,  143,  156,  162,  102]],\n",
       "      dtype=int32)>"
      ]
     },
     "execution_count": 20,
     "metadata": {},
     "output_type": "execute_result"
    }
   ],
   "source": [
    "m2(vec)"
   ]
  }
 ],
 "metadata": {
  "kernelspec": {
   "display_name": "Python 3",
   "language": "python",
   "name": "python3"
  },
  "language_info": {
   "codemirror_mode": {
    "name": "ipython",
    "version": 3
   },
   "file_extension": ".py",
   "mimetype": "text/x-python",
   "name": "python",
   "nbconvert_exporter": "python",
   "pygments_lexer": "ipython3",
   "version": "3.7.6"
  }
 },
 "nbformat": 4,
 "nbformat_minor": 2
}
