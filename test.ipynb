{
 "cells": [
  {
   "cell_type": "code",
   "execution_count": 1,
   "metadata": {},
   "outputs": [],
   "source": [
    "# !pip install tensorflow >> /dev/null\n",
    "# !pip install tensorflow-hub >> /dev/null\n",
    "import tensorflow as tf\n",
    "import tensorflow_hub as hub"
   ]
  },
  {
   "cell_type": "code",
   "execution_count": 2,
   "metadata": {},
   "outputs": [],
   "source": [
    "bert = hub.KerasLayer('./output/bert_wwm_zh/')"
   ]
  },
  {
   "cell_type": "code",
   "execution_count": 4,
   "metadata": {},
   "outputs": [
    {
     "data": {
      "text/plain": [
       "{'pooled_output': <tf.Tensor: shape=(2, 768), dtype=float32, numpy=\n",
       " array([[-0.6353977 , -0.70469534,  0.68483686, ...,  0.44020104,\n",
       "         -0.14942467,  0.80050063],\n",
       "        [ 0.40159807, -0.7035975 , -0.00531527, ..., -0.19709048,\n",
       "          0.2169983 ,  0.7176027 ]], dtype=float32)>,\n",
       " 'sequence_output': <tf.Tensor: shape=(2, 2, 768), dtype=float32, numpy=\n",
       " array([[[ 0.20222442,  0.04772816,  0.09283449, ...,  0.45037678,\n",
       "          -0.11762285,  0.38664433],\n",
       "         [ 0.21020117,  0.07403799,  0.13659954, ...,  0.4383383 ,\n",
       "          -0.14299333,  0.41129473]],\n",
       " \n",
       "        [[ 0.38615975,  0.56547326,  0.20320028, ...,  0.782043  ,\n",
       "          -0.3927768 , -0.00833426],\n",
       "         [ 0.26134017,  0.60460114,  0.2466737 , ...,  0.7582732 ,\n",
       "          -0.48962283, -0.08533446]]], dtype=float32)>}"
      ]
     },
     "execution_count": 4,
     "metadata": {},
     "output_type": "execute_result"
    }
   ],
   "source": [
    "bert(\n",
    "    tf.ragged.constant([['嗷', '嗷'], ['嗷']]).to_tensor()\n",
    ")"
   ]
  },
  {
   "cell_type": "code",
   "execution_count": 6,
   "metadata": {
    "scrolled": false
   },
   "outputs": [
    {
     "name": "stdout",
     "output_type": "stream",
     "text": [
      "Epoch 1/10\n",
      "1/1 [==============================] - 0s 1ms/step - loss: 0.7324 - accuracy: 0.5000\n",
      "Epoch 2/10\n",
      "1/1 [==============================] - 0s 3ms/step - loss: 0.5761 - accuracy: 0.6667\n",
      "Epoch 3/10\n",
      "1/1 [==============================] - 0s 2ms/step - loss: 0.4963 - accuracy: 1.0000\n",
      "Epoch 4/10\n",
      "1/1 [==============================] - 0s 3ms/step - loss: 0.4412 - accuracy: 1.0000\n",
      "Epoch 5/10\n",
      "1/1 [==============================] - 0s 1ms/step - loss: 0.3990 - accuracy: 1.0000\n",
      "Epoch 6/10\n",
      "1/1 [==============================] - 0s 1ms/step - loss: 0.3648 - accuracy: 1.0000\n",
      "Epoch 7/10\n",
      "1/1 [==============================] - 0s 1ms/step - loss: 0.3361 - accuracy: 1.0000\n",
      "Epoch 8/10\n",
      "1/1 [==============================] - 0s 1ms/step - loss: 0.3115 - accuracy: 1.0000\n",
      "Epoch 9/10\n",
      "1/1 [==============================] - 0s 1ms/step - loss: 0.2899 - accuracy: 1.0000\n",
      "Epoch 10/10\n",
      "1/1 [==============================] - 0s 1ms/step - loss: 0.2708 - accuracy: 1.0000\n"
     ]
    }
   ],
   "source": [
    "x = [list(x) for x in [\n",
    "    '我爱你',\n",
    "    '我恨你',\n",
    "    '爱你',\n",
    "    '恨你',\n",
    "    '爱',\n",
    "    '恨',\n",
    "]]\n",
    "y = [\n",
    "    1, 0, 1, 0, 1, 0\n",
    "]\n",
    "\n",
    "tx = tf.ragged.constant(x).to_tensor()\n",
    "ty = tf.constant(y)\n",
    "\n",
    "_input = tf.keras.Input(shape=(None,), dtype=tf.string)\n",
    "x = _input\n",
    "x = bert(x)\n",
    "x = tf.keras.layers.Lambda(lambda x: x['pooled_output'])(x)\n",
    "x = tf.keras.layers.Dense(1)(x)\n",
    "x = tf.keras.layers.Activation('sigmoid')(x)\n",
    "\n",
    "model = tf.keras.Model(inputs=_input, outputs=x)\n",
    "\n",
    "model.compile(loss='binary_crossentropy', metrics=['accuracy'])\n",
    "model.fit(tx, ty, epochs=10, batch_size=6)\n",
    "logits = model.predict(tx)\n",
    "pred = tf.math.round(logits).numpy().flatten().tolist()"
   ]
  },
  {
   "cell_type": "code",
   "execution_count": 7,
   "metadata": {},
   "outputs": [
    {
     "name": "stdout",
     "output_type": "stream",
     "text": [
      "[1.0, 0.0, 1.0, 0.0, 1.0, 0.0]\n",
      "[1, 0, 1, 0, 1, 0]\n"
     ]
    }
   ],
   "source": [
    "print(pred)\n",
    "print(y)"
   ]
  },
  {
   "cell_type": "code",
   "execution_count": 9,
   "metadata": {},
   "outputs": [
    {
     "name": "stdout",
     "output_type": "stream",
     "text": [
      "WARNING:tensorflow:From /home/qhduan/.local/lib/python3.7/site-packages/tensorflow/python/ops/resource_variable_ops.py:1817: calling BaseResourceVariable.__init__ (from tensorflow.python.ops.resource_variable_ops) with constraint is deprecated and will be removed in a future version.\n",
      "Instructions for updating:\n",
      "If using Keras pass *_constraint arguments to layers.\n",
      "INFO:tensorflow:Assets written to: /tmp/test_model/assets\n"
     ]
    }
   ],
   "source": [
    "model.save('/tmp/test_model')"
   ]
  },
  {
   "cell_type": "code",
   "execution_count": 11,
   "metadata": {},
   "outputs": [
    {
     "data": {
      "text/plain": [
       "<tf.Tensor: shape=(1, 1), dtype=float32, numpy=array([[0.7060459]], dtype=float32)>"
      ]
     },
     "execution_count": 11,
     "metadata": {},
     "output_type": "execute_result"
    }
   ],
   "source": [
    "tf.keras.models.load_model('/tmp/test_model')(tf.constant([list('我爱你')]))"
   ]
  },
  {
   "cell_type": "code",
   "execution_count": 12,
   "metadata": {},
   "outputs": [
    {
     "data": {
      "text/plain": [
       "<tf.Tensor: shape=(1, 1), dtype=float32, numpy=array([[0.4550731]], dtype=float32)>"
      ]
     },
     "execution_count": 12,
     "metadata": {},
     "output_type": "execute_result"
    }
   ],
   "source": [
    "tf.keras.models.load_model('/tmp/test_model')(tf.constant([list('恨你')]))"
   ]
  },
  {
   "cell_type": "code",
   "execution_count": 13,
   "metadata": {},
   "outputs": [
    {
     "data": {
      "text/plain": [
       "<tf.Tensor: shape=(2, 1), dtype=float32, numpy=\n",
       "array([[0.70604485],\n",
       "       [0.24683121]], dtype=float32)>"
      ]
     },
     "execution_count": 13,
     "metadata": {},
     "output_type": "execute_result"
    }
   ],
   "source": [
    "tf.keras.models.load_model('/tmp/test_model')(tf.ragged.constant([\n",
    "    list('我爱你'),\n",
    "    list('恨你')\n",
    "]).to_tensor())"
   ]
  },
  {
   "cell_type": "code",
   "execution_count": null,
   "metadata": {},
   "outputs": [],
   "source": []
  }
 ],
 "metadata": {
  "kernelspec": {
   "display_name": "Python 3",
   "language": "python",
   "name": "python3"
  },
  "language_info": {
   "codemirror_mode": {
    "name": "ipython",
    "version": 3
   },
   "file_extension": ".py",
   "mimetype": "text/x-python",
   "name": "python",
   "nbconvert_exporter": "python",
   "pygments_lexer": "ipython3",
   "version": "3.7.5"
  }
 },
 "nbformat": 4,
 "nbformat_minor": 4
}
