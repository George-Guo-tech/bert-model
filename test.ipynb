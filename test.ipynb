{
 "cells": [
  {
   "cell_type": "code",
   "execution_count": 1,
   "metadata": {},
   "outputs": [],
   "source": [
    "!pip install tensorflow >> /dev/null\n",
    "!pip install tensorflow-hub >> /dev/null\n",
    "import tensorflow as tf\n",
    "import tensorflow_hub as hub"
   ]
  },
  {
   "cell_type": "code",
   "execution_count": 2,
   "metadata": {},
   "outputs": [],
   "source": [
    "bert = hub.KerasLayer('./output/bert_wwm_zh_pool/')"
   ]
  },
  {
   "cell_type": "code",
   "execution_count": 3,
   "metadata": {},
   "outputs": [
    {
     "data": {
      "text/plain": [
       "TensorShape([2, 768])"
      ]
     },
     "execution_count": 3,
     "metadata": {},
     "output_type": "execute_result"
    }
   ],
   "source": [
    "bert([['嗷嗷'], ['嗷']]).shape"
   ]
  },
  {
   "cell_type": "code",
   "execution_count": 11,
   "metadata": {
    "scrolled": false
   },
   "outputs": [
    {
     "name": "stdout",
     "output_type": "stream",
     "text": [
      "Train on 6 samples\n",
      "Epoch 1/10\n",
      "6/6 [==============================] - 7s 1s/sample - loss: 0.8716 - accuracy: 0.5000\n",
      "Epoch 2/10\n",
      "6/6 [==============================] - 0s 13ms/sample - loss: 0.7175 - accuracy: 0.5000\n",
      "Epoch 3/10\n",
      "6/6 [==============================] - 0s 13ms/sample - loss: 0.6596 - accuracy: 0.5000\n",
      "Epoch 4/10\n",
      "6/6 [==============================] - 0s 14ms/sample - loss: 0.6386 - accuracy: 0.6667\n",
      "Epoch 5/10\n",
      "6/6 [==============================] - 0s 14ms/sample - loss: 0.6263 - accuracy: 0.8333\n",
      "Epoch 6/10\n",
      "6/6 [==============================] - 0s 14ms/sample - loss: 0.6165 - accuracy: 0.8333\n",
      "Epoch 7/10\n",
      "6/6 [==============================] - 0s 14ms/sample - loss: 0.6078 - accuracy: 0.8333\n",
      "Epoch 8/10\n",
      "6/6 [==============================] - 0s 14ms/sample - loss: 0.5996 - accuracy: 1.0000\n",
      "Epoch 9/10\n",
      "6/6 [==============================] - 0s 14ms/sample - loss: 0.5918 - accuracy: 0.8333\n",
      "Epoch 10/10\n",
      "6/6 [==============================] - 0s 14ms/sample - loss: 0.5842 - accuracy: 1.0000\n"
     ]
    }
   ],
   "source": [
    "x = [\n",
    "    ['我爱你'],\n",
    "    ['我恨你'],\n",
    "    ['爱你'],\n",
    "    ['恨你'],\n",
    "    ['爱'],\n",
    "    ['恨'],\n",
    "]\n",
    "y = [\n",
    "    1, 0, 1, 0, 1, 0\n",
    "]\n",
    "\n",
    "tx = tf.constant(x)\n",
    "ty = tf.constant(y)\n",
    "\n",
    "model = tf.keras.Sequential([\n",
    "  hub.KerasLayer('./output/bert_wwm_zh_pool/'),\n",
    "  tf.keras.layers.Dense(1, activation='sigmoid')\n",
    "])\n",
    "\n",
    "model.compile(loss='binary_crossentropy', metrics=['accuracy'])\n",
    "model.fit(tx, ty, epochs=10, batch_size=6)\n",
    "logits = model.predict(tx)\n",
    "pred = tf.math.round(logits).numpy().flatten().tolist()"
   ]
  },
  {
   "cell_type": "code",
   "execution_count": 12,
   "metadata": {},
   "outputs": [
    {
     "name": "stdout",
     "output_type": "stream",
     "text": [
      "[1.0, 0.0, 1.0, 0.0, 1.0, 0.0]\n",
      "[1, 0, 1, 0, 1, 0]\n"
     ]
    }
   ],
   "source": [
    "print(pred)\n",
    "print(y)"
   ]
  },
  {
   "cell_type": "code",
   "execution_count": 13,
   "metadata": {},
   "outputs": [
    {
     "name": "stdout",
     "output_type": "stream",
     "text": [
      "INFO:tensorflow:Assets written to: /tmp/test_model/assets\n"
     ]
    }
   ],
   "source": [
    "model.save('/tmp/test_model')"
   ]
  },
  {
   "cell_type": "code",
   "execution_count": 14,
   "metadata": {},
   "outputs": [
    {
     "data": {
      "text/plain": [
       "<tf.Tensor: shape=(1, 1), dtype=float32, numpy=array([[0.54622084]], dtype=float32)>"
      ]
     },
     "execution_count": 14,
     "metadata": {},
     "output_type": "execute_result"
    }
   ],
   "source": [
    "tf.keras.models.load_model('/tmp/test_model')([['我爱你']])"
   ]
  },
  {
   "cell_type": "code",
   "execution_count": 15,
   "metadata": {},
   "outputs": [
    {
     "data": {
      "text/plain": [
       "<tf.Tensor: shape=(1, 1), dtype=float32, numpy=array([[0.40016043]], dtype=float32)>"
      ]
     },
     "execution_count": 15,
     "metadata": {},
     "output_type": "execute_result"
    }
   ],
   "source": [
    "tf.keras.models.load_model('/tmp/test_model')([['恨你']])"
   ]
  },
  {
   "cell_type": "code",
   "execution_count": null,
   "metadata": {},
   "outputs": [],
   "source": []
  }
 ],
 "metadata": {
  "kernelspec": {
   "display_name": "Python 3",
   "language": "python",
   "name": "python3"
  },
  "language_info": {
   "codemirror_mode": {
    "name": "ipython",
    "version": 3
   },
   "file_extension": ".py",
   "mimetype": "text/x-python",
   "name": "python",
   "nbconvert_exporter": "python",
   "pygments_lexer": "ipython3",
   "version": "3.6.9"
  }
 },
 "nbformat": 4,
 "nbformat_minor": 4
}
