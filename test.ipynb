{
 "cells": [
  {
   "cell_type": "code",
   "execution_count": 1,
   "metadata": {},
   "outputs": [],
   "source": [
    "import tensorflow as tf\n",
    "import tensorflow_hub as hub"
   ]
  },
  {
   "cell_type": "code",
   "execution_count": 2,
   "metadata": {},
   "outputs": [],
   "source": [
    "bert = hub.KerasLayer('./output/bert_wwm_zh_pool/')"
   ]
  },
  {
   "cell_type": "code",
   "execution_count": 3,
   "metadata": {},
   "outputs": [
    {
     "data": {
      "text/plain": [
       "TensorShape([2, 768])"
      ]
     },
     "execution_count": 3,
     "metadata": {},
     "output_type": "execute_result"
    }
   ],
   "source": [
    "bert([['嗷嗷'], ['嗷']]).shape"
   ]
  },
  {
   "cell_type": "code",
   "execution_count": 7,
   "metadata": {
    "scrolled": false
   },
   "outputs": [
    {
     "name": "stdout",
     "output_type": "stream",
     "text": [
      "Train on 6 samples\n",
      "Epoch 1/20\n",
      "6/6 [==============================] - 2s 363ms/sample - loss: 1.0603\n",
      "Epoch 2/20\n",
      "6/6 [==============================] - 0s 14ms/sample - loss: 0.7053\n",
      "Epoch 3/20\n",
      "6/6 [==============================] - 0s 14ms/sample - loss: 1.4599\n",
      "Epoch 4/20\n",
      "6/6 [==============================] - 0s 14ms/sample - loss: 0.7727\n",
      "Epoch 5/20\n",
      "6/6 [==============================] - 0s 14ms/sample - loss: 0.7908\n",
      "Epoch 6/20\n",
      "6/6 [==============================] - 0s 14ms/sample - loss: 0.6449\n",
      "Epoch 7/20\n",
      "6/6 [==============================] - 0s 14ms/sample - loss: 0.5826\n",
      "Epoch 8/20\n",
      "6/6 [==============================] - 0s 14ms/sample - loss: 0.9594\n",
      "Epoch 9/20\n",
      "6/6 [==============================] - 0s 14ms/sample - loss: 0.8246\n",
      "Epoch 10/20\n",
      "6/6 [==============================] - 0s 14ms/sample - loss: 0.8019\n",
      "Epoch 11/20\n",
      "6/6 [==============================] - 0s 14ms/sample - loss: 0.6719\n",
      "Epoch 12/20\n",
      "6/6 [==============================] - 0s 14ms/sample - loss: 0.8465\n",
      "Epoch 13/20\n",
      "6/6 [==============================] - 0s 14ms/sample - loss: 0.5325\n",
      "Epoch 14/20\n",
      "6/6 [==============================] - 0s 14ms/sample - loss: 0.7280\n",
      "Epoch 15/20\n",
      "6/6 [==============================] - 0s 14ms/sample - loss: 0.5389\n",
      "Epoch 16/20\n",
      "6/6 [==============================] - 0s 14ms/sample - loss: 0.4642\n",
      "Epoch 17/20\n",
      "6/6 [==============================] - 0s 14ms/sample - loss: 0.5544\n",
      "Epoch 18/20\n",
      "6/6 [==============================] - 0s 14ms/sample - loss: 0.8386\n",
      "Epoch 19/20\n",
      "6/6 [==============================] - 0s 14ms/sample - loss: 0.6377\n",
      "Epoch 20/20\n",
      "6/6 [==============================] - 0s 14ms/sample - loss: 0.4735\n",
      "[1, 0, 1, 0, 1, 0]\n",
      "[1, 0, 1, 0, 1, 0]\n"
     ]
    }
   ],
   "source": [
    "x = [\n",
    "    ['我爱你'],\n",
    "    ['我恨你'],\n",
    "    ['爱你'],\n",
    "    ['恨你'],\n",
    "    ['爱'],\n",
    "    ['恨'],\n",
    "]\n",
    "y = [\n",
    "    1, 0, 1, 0, 1, 0\n",
    "]\n",
    "\n",
    "tx = tf.constant(x)\n",
    "ty = tf.constant(tf.keras.utils.to_categorical(y, 2))\n",
    "\n",
    "model = tf.keras.Sequential([\n",
    "  bert,\n",
    "  tf.keras.layers.Dense(2, activation='softmax')\n",
    "])\n",
    "\n",
    "model.compile(loss='categorical_crossentropy')\n",
    "model.fit(tx, ty, epochs=20, batch_size=2)\n",
    "logits = model.predict(tx)\n",
    "pred = logits.argmax(-1).tolist()\n",
    "\n",
    "print(pred)\n",
    "print(y)"
   ]
  },
  {
   "cell_type": "code",
   "execution_count": null,
   "metadata": {},
   "outputs": [],
   "source": []
  }
 ],
 "metadata": {
  "kernelspec": {
   "display_name": "Python 3",
   "language": "python",
   "name": "python3"
  },
  "language_info": {
   "codemirror_mode": {
    "name": "ipython",
    "version": 3
   },
   "file_extension": ".py",
   "mimetype": "text/x-python",
   "name": "python",
   "nbconvert_exporter": "python",
   "pygments_lexer": "ipython3",
   "version": "3.7.6"
  }
 },
 "nbformat": 4,
 "nbformat_minor": 4
}
