{
 "cells": [
  {
   "cell_type": "code",
   "execution_count": 1,
   "metadata": {
    "colab": {
     "base_uri": "https://localhost:8080/",
     "height": 34
    },
    "colab_type": "code",
    "id": "asrytTPPMrQj",
    "outputId": "879f3bc6-36df-4f45-af44-38d305d3d032"
   },
   "outputs": [
    {
     "name": "stderr",
     "output_type": "stream",
     "text": [
      "UsageError: Line magic function `%tensorflow_version` not found.\n"
     ]
    }
   ],
   "source": [
    "# !pip install tensorflow-hub\n",
    "%tensorflow_version 2.x"
   ]
  },
  {
   "cell_type": "code",
   "execution_count": 0,
   "metadata": {
    "colab": {},
    "colab_type": "code",
    "id": "6C1kCQSjoPWu"
   },
   "outputs": [],
   "source": [
    "import tensorflow_hub as hub\n",
    "import tensorflow as tf"
   ]
  },
  {
   "cell_type": "code",
   "execution_count": 0,
   "metadata": {
    "colab": {},
    "colab_type": "code",
    "id": "DZwHQz6vorR9"
   },
   "outputs": [],
   "source": [
    "import os\n",
    "os.environ['TFHUB_DOWNLOAD_PROGRESS'] = \"1\""
   ]
  },
  {
   "cell_type": "code",
   "execution_count": 0,
   "metadata": {
    "colab": {
     "base_uri": "https://localhost:8080/",
     "height": 51
    },
    "colab_type": "code",
    "id": "RINOHxKELGNk",
    "outputId": "50072fd4-7320-4634-fb95-f3832d439344"
   },
   "outputs": [
    {
     "name": "stdout",
     "output_type": "stream",
     "text": [
      "Requirement already satisfied: zh_dataset_inews in /usr/local/lib/python3.6/dist-packages (0.0.2)\n",
      "Requirement already satisfied: tqdm in /usr/local/lib/python3.6/dist-packages (4.28.1)\n"
     ]
    }
   ],
   "source": [
    "!pip install zh_dataset_inews\n",
    "!pip install tqdm\n",
    "from tqdm import tqdm"
   ]
  },
  {
   "cell_type": "code",
   "execution_count": 0,
   "metadata": {
    "colab": {},
    "colab_type": "code",
    "id": "bZm7sdrWifbO"
   },
   "outputs": [],
   "source": [
    "from zh_dataset_inews import title_train, content_train, label_train\n",
    "from zh_dataset_inews import title_dev, content_dev, label_dev\n",
    "from zh_dataset_inews import title_test, content_test, label_test\n",
    "from sklearn.metrics import accuracy_score"
   ]
  },
  {
   "cell_type": "code",
   "execution_count": 0,
   "metadata": {
    "colab": {},
    "colab_type": "code",
    "id": "JACvIvp7igMF"
   },
   "outputs": [],
   "source": [
    "def compose_data(title, content, label):\n",
    "  x = tf.constant([\n",
    "      [(t + '[SEP]' + c)]\n",
    "      for t, c in zip(title, content)\n",
    "  ])\n",
    "  y = tf.constant(tf.keras.utils.to_categorical(label, 3))\n",
    "  return x, y"
   ]
  },
  {
   "cell_type": "code",
   "execution_count": 0,
   "metadata": {
    "colab": {},
    "colab_type": "code",
    "id": "m6rM5PLqLNDi"
   },
   "outputs": [],
   "source": [
    "x_train, y_train = compose_data(title_train, content_train, label_train)\n",
    "x_dev, y_dev = compose_data(title_dev, content_dev, label_dev)\n",
    "x_test, y_test = compose_data(title_test, content_test, label_test)"
   ]
  },
  {
   "cell_type": "code",
   "execution_count": 0,
   "metadata": {
    "colab": {
     "base_uri": "https://localhost:8080/",
     "height": 153
    },
    "colab_type": "code",
    "id": "kxV3AvbpLBx9",
    "outputId": "d0ddb419-cfd0-42e9-fb21-4873f35a361a"
   },
   "outputs": [
    {
     "name": "stdout",
     "output_type": "stream",
     "text": [
      "Train on 5355 samples, validate on 999 samples\n",
      "Epoch 1/3\n",
      "5355/5355 [==============================] - 746s 139ms/sample - loss: 0.4902 - accuracy: 0.8058 - val_loss: 0.3580 - val_accuracy: 0.8448\n",
      "Epoch 2/3\n",
      "5355/5355 [==============================] - 751s 140ms/sample - loss: 0.2739 - accuracy: 0.8913 - val_loss: 0.4624 - val_accuracy: 0.8298\n",
      "Epoch 3/3\n",
      "5355/5355 [==============================] - 750s 140ms/sample - loss: 0.1664 - accuracy: 0.9382 - val_loss: 0.4284 - val_accuracy: 0.8488\n"
     ]
    },
    {
     "data": {
      "text/plain": [
       "<tensorflow.python.keras.callbacks.History at 0x7fc4357f8160>"
      ]
     },
     "execution_count": 8,
     "metadata": {
      "tags": []
     },
     "output_type": "execute_result"
    }
   ],
   "source": [
    "model = tf.keras.Sequential([\n",
    "  hub.KerasLayer(\n",
    "    'https://github.com/qhduan/bert-model/releases/download/1.0/roberta_wwm_zh_pool.tar.gz',\n",
    "    trainable=True),\n",
    "  tf.keras.layers.Dense(3, activation='softmax')\n",
    "])\n",
    "\n",
    "model.compile(\n",
    "  loss='categorical_crossentropy',\n",
    "  optimizer=tf.optimizers.Adam(5e-6),\n",
    "  metrics=['accuracy']\n",
    ")\n",
    "\n",
    "model.fit(x_train, y_train, validation_data=(x_dev, y_dev), epochs=3, batch_size=4)"
   ]
  },
  {
   "cell_type": "code",
   "execution_count": 0,
   "metadata": {
    "colab": {
     "base_uri": "https://localhost:8080/",
     "height": 34
    },
    "colab_type": "code",
    "id": "PiQ5kkq2jsUk",
    "outputId": "f1b8f803-7fb2-40cc-fdb6-82ebcf8e412a"
   },
   "outputs": [
    {
     "name": "stdout",
     "output_type": "stream",
     "text": [
      "999/999 [==============================] - 47s 47ms/sample\n"
     ]
    }
   ],
   "source": [
    "logits_test = model.predict(x_test, verbose=1)\n",
    "pred_test = logits_test.argmax(-1).tolist()"
   ]
  },
  {
   "cell_type": "code",
   "execution_count": 0,
   "metadata": {
    "colab": {
     "base_uri": "https://localhost:8080/",
     "height": 34
    },
    "colab_type": "code",
    "id": "qhySTdbHjvQE",
    "outputId": "c51d5a24-c762-4cf1-dea9-dfde498eabd6"
   },
   "outputs": [
    {
     "name": "stdout",
     "output_type": "stream",
     "text": [
      "0.8338338338338338\n"
     ]
    }
   ],
   "source": [
    "print(accuracy_score(label_test, pred_test))"
   ]
  }
 ],
 "metadata": {
  "accelerator": "GPU",
  "colab": {
   "collapsed_sections": [],
   "name": "test-bert-chinese.ipynb",
   "provenance": []
  },
  "kernelspec": {
   "display_name": "Python 3",
   "language": "python",
   "name": "python3"
  },
  "language_info": {
   "codemirror_mode": {
    "name": "ipython",
    "version": 3
   },
   "file_extension": ".py",
   "mimetype": "text/x-python",
   "name": "python",
   "nbconvert_exporter": "python",
   "pygments_lexer": "ipython3",
   "version": "3.7.5"
  }
 },
 "nbformat": 4,
 "nbformat_minor": 1
}
